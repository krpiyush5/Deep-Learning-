{
 "cells": [
  {
   "cell_type": "code",
   "execution_count": 1,
   "metadata": {
    "colab": {
     "base_uri": "https://localhost:8080/",
     "height": 165
    },
    "colab_type": "code",
    "id": "z_3cM_LJhM54",
    "outputId": "38a8172a-5ad4-429f-a974-fe2719c4eb06"
   },
   "outputs": [
    {
     "name": "stderr",
     "output_type": "stream",
     "text": [
      "Using TensorFlow backend.\n"
     ]
    },
    {
     "name": "stdout",
     "output_type": "stream",
     "text": [
      "Downloading data from https://s3.amazonaws.com/img-datasets/mnist.npz\n",
      "11493376/11490434 [==============================] - 0s 0us/step\n",
      "X_train shape:  (60000, 28, 28)\n",
      "Y_train shape:  (60000,)\n",
      "--------------------------------------------------\n",
      "X_test shape:  (10000, 28, 28)\n",
      "y_test shape:  (10000,)\n"
     ]
    }
   ],
   "source": [
    "from __future__ import print_function\n",
    "import keras\n",
    "from keras.datasets import mnist\n",
    "from keras.models import Sequential\n",
    "from keras.layers import Dense, Dropout, Flatten, Activation\n",
    "from keras.layers import Conv2D, MaxPooling2D\n",
    "from keras import backend as K\n",
    "import numpy as np\n",
    "import pandas as pd\n",
    "import matplotlib.pyplot as plt\n",
    "\n",
    "(X_train,y_train),(X_test,y_test)=mnist.load_data()\n",
    "print('X_train shape: ',X_train.shape)\n",
    "print('Y_train shape: ',y_train.shape)\n",
    "print('-'*50)\n",
    "print('X_test shape: ',X_test.shape)\n",
    "print('y_test shape: ',y_test.shape)"
   ]
  },
  {
   "cell_type": "code",
   "execution_count": 2,
   "metadata": {
    "colab": {
     "base_uri": "https://localhost:8080/",
     "height": 72
    },
    "colab_type": "code",
    "id": "Xo3sD1G_hOGb",
    "outputId": "46bbf4a3-d02c-4dad-d163-da8bfb3dbbcc"
   },
   "outputs": [
    {
     "name": "stdout",
     "output_type": "stream",
     "text": [
      "X_train shape: (60000, 28, 28, 1)\n",
      "60000 train samples\n",
      "10000 test samples\n"
     ]
    }
   ],
   "source": [
    "# input image dimensions\n",
    "img_rows, img_cols = 28, 28\n",
    "if K.image_data_format() == 'channels_first':\n",
    "    X_train = X_train.reshape(X_train.shape[0], 1, img_rows, img_cols)\n",
    "    X_test = X_test.reshape(X_test.shape[0], 1, img_rows, img_cols)\n",
    "    input_shape = (1, img_rows, img_cols)\n",
    "else:\n",
    "    X_train = X_train.reshape(X_train.shape[0], img_rows, img_cols, 1)\n",
    "    X_test = X_test.reshape(X_test.shape[0], img_rows, img_cols, 1)\n",
    "    input_shape = (img_rows, img_cols, 1)\n",
    "\n",
    "X_train = X_train.astype('float32')\n",
    "X_test = X_test.astype('float32')\n",
    "X_train /= 255\n",
    "X_test /= 255\n",
    "print('X_train shape:', X_train.shape)\n",
    "print(X_train.shape[0], 'train samples')\n",
    "print(X_test.shape[0], 'test samples')"
   ]
  },
  {
   "cell_type": "code",
   "execution_count": 3,
   "metadata": {
    "colab": {
     "base_uri": "https://localhost:8080/",
     "height": 35
    },
    "colab_type": "code",
    "id": "dgU-UBdfh0P_",
    "outputId": "d5431065-ed05-4da6-b693-2cd4526c75fc"
   },
   "outputs": [
    {
     "name": "stdout",
     "output_type": "stream",
     "text": [
      "[0. 0. 0. 0. 0. 1. 0. 0. 0. 0.]\n"
     ]
    }
   ],
   "source": [
    "#Some initialization\n",
    "batch_size = 128\n",
    "num_classes = 10\n",
    "epochs = 12\n",
    "# convert class vectors to binary class matrices\n",
    "y_train = keras.utils.to_categorical(y_train, num_classes)\n",
    "y_test = keras.utils.to_categorical(y_test, num_classes)\n",
    "\n",
    "print(y_train[0])"
   ]
  },
  {
   "cell_type": "markdown",
   "metadata": {
    "colab_type": "text",
    "id": "1a_iar6jn2Hr"
   },
   "source": [
    "**Applying CNN with 3 layers**"
   ]
  },
  {
   "cell_type": "code",
   "execution_count": 17,
   "metadata": {
    "colab": {
     "base_uri": "https://localhost:8080/",
     "height": 589
    },
    "colab_type": "code",
    "id": "ZosfS1XjiBQ2",
    "outputId": "3e91eebc-1d6a-4da6-a089-eff7179c3dc4"
   },
   "outputs": [
    {
     "name": "stdout",
     "output_type": "stream",
     "text": [
      "_________________________________________________________________\n",
      "Layer (type)                 Output Shape              Param #   \n",
      "=================================================================\n",
      "conv2d_13 (Conv2D)           (None, 26, 26, 32)        320       \n",
      "_________________________________________________________________\n",
      "max_pooling2d_13 (MaxPooling (None, 13, 13, 32)        0         \n",
      "_________________________________________________________________\n",
      "conv2d_14 (Conv2D)           (None, 11, 11, 64)        18496     \n",
      "_________________________________________________________________\n",
      "max_pooling2d_14 (MaxPooling (None, 5, 5, 64)          0         \n",
      "_________________________________________________________________\n",
      "conv2d_15 (Conv2D)           (None, 3, 3, 64)          36928     \n",
      "_________________________________________________________________\n",
      "batch_normalization_9 (Batch (None, 3, 3, 64)          12        \n",
      "_________________________________________________________________\n",
      "max_pooling2d_15 (MaxPooling (None, 1, 1, 64)          0         \n",
      "_________________________________________________________________\n",
      "flatten_2 (Flatten)          (None, 64)                0         \n",
      "_________________________________________________________________\n",
      "dense_9 (Dense)              (None, 512)               33280     \n",
      "_________________________________________________________________\n",
      "activation_8 (Activation)    (None, 512)               0         \n",
      "_________________________________________________________________\n",
      "dropout_5 (Dropout)          (None, 512)               0         \n",
      "_________________________________________________________________\n",
      "dense_10 (Dense)             (None, 10)                5130      \n",
      "=================================================================\n",
      "Total params: 94,166\n",
      "Trainable params: 94,160\n",
      "Non-trainable params: 6\n",
      "_________________________________________________________________\n"
     ]
    }
   ],
   "source": [
    "from keras.layers.normalization import BatchNormalization\n",
    "#Conv2d-->Pooling-->Conv2d-->Pooling-->Conv2d-->BN-->Pooling-->FC-->Dropout-->Softmax\n",
    "#We will use Relu as Activation function and Adam as Optimizer\n",
    "#We will also use BatchNormalization and Dropout at suitable places\n",
    "\n",
    "model=Sequential()\n",
    "#Adding first layer\n",
    "model.add(Conv2D(32, kernel_size=(3, 3),activation='relu',input_shape=input_shape))\n",
    "model.add(MaxPooling2D(pool_size=(2, 2)))\n",
    "\n",
    "#Second layer\n",
    "model.add(Conv2D(64, kernel_size=(3, 3), activation='relu'))\n",
    "\n",
    "model.add(MaxPooling2D(pool_size=(2,2)))\n",
    "\n",
    "#third layer\n",
    "model.add(Conv2D(64, kernel_size=(3, 3), activation='relu'))\n",
    "model.add(BatchNormalization(axis=1))\n",
    "model.add(MaxPooling2D(pool_size=(2,2)))\n",
    "\n",
    "#Fully Connected layer\n",
    "#Flattening\n",
    "model.add(Flatten())\n",
    "model.add(Dense(512))\n",
    "model.add(Activation('relu'))\n",
    "model.add(Dropout(0.5))\n",
    "\n",
    "#Softmax\n",
    "model.add(Dense(num_classes, activation='softmax'))\n",
    "model.summary()"
   ]
  },
  {
   "cell_type": "code",
   "execution_count": 13,
   "metadata": {
    "colab": {
     "base_uri": "https://localhost:8080/",
     "height": 554
    },
    "colab_type": "code",
    "id": "_xNm3ynXsHCv",
    "outputId": "e2fb8db6-e486-41c7-cbcb-599127bf772b"
   },
   "outputs": [
    {
     "name": "stderr",
     "output_type": "stream",
     "text": [
      "W0629 19:38:00.390176 140361178707840 deprecation.py:323] From /usr/local/lib/python3.6/dist-packages/tensorflow/python/ops/math_grad.py:1250: add_dispatch_support.<locals>.wrapper (from tensorflow.python.ops.array_ops) is deprecated and will be removed in a future version.\n",
      "Instructions for updating:\n",
      "Use tf.where in 2.0, which has the same broadcast rule as np.where\n"
     ]
    },
    {
     "name": "stdout",
     "output_type": "stream",
     "text": [
      "Train on 60000 samples, validate on 10000 samples\n",
      "Epoch 1/12\n",
      "60000/60000 [==============================] - 51s 853us/step - loss: 0.3726 - acc: 0.8831 - val_loss: 0.1126 - val_acc: 0.9657\n",
      "Epoch 2/12\n",
      "60000/60000 [==============================] - 50s 831us/step - loss: 0.1063 - acc: 0.9674 - val_loss: 0.0756 - val_acc: 0.9752\n",
      "Epoch 3/12\n",
      "60000/60000 [==============================] - 50s 829us/step - loss: 0.0760 - acc: 0.9775 - val_loss: 0.0644 - val_acc: 0.9805\n",
      "Epoch 4/12\n",
      "60000/60000 [==============================] - 50s 825us/step - loss: 0.0597 - acc: 0.9818 - val_loss: 0.0506 - val_acc: 0.9844\n",
      "Epoch 5/12\n",
      "60000/60000 [==============================] - 49s 816us/step - loss: 0.0504 - acc: 0.9846 - val_loss: 0.0596 - val_acc: 0.9822\n",
      "Epoch 6/12\n",
      "60000/60000 [==============================] - 49s 812us/step - loss: 0.0423 - acc: 0.9867 - val_loss: 0.0524 - val_acc: 0.9846\n",
      "Epoch 7/12\n",
      "60000/60000 [==============================] - 49s 809us/step - loss: 0.0373 - acc: 0.9885 - val_loss: 0.0487 - val_acc: 0.9859\n",
      "Epoch 8/12\n",
      "60000/60000 [==============================] - 49s 821us/step - loss: 0.0323 - acc: 0.9901 - val_loss: 0.0471 - val_acc: 0.9856\n",
      "Epoch 9/12\n",
      "60000/60000 [==============================] - 51s 842us/step - loss: 0.0287 - acc: 0.9908 - val_loss: 0.0536 - val_acc: 0.9835\n",
      "Epoch 10/12\n",
      "60000/60000 [==============================] - 51s 852us/step - loss: 0.0243 - acc: 0.9922 - val_loss: 0.0520 - val_acc: 0.9859\n",
      "Epoch 11/12\n",
      "60000/60000 [==============================] - 51s 850us/step - loss: 0.0233 - acc: 0.9927 - val_loss: 0.0437 - val_acc: 0.9872\n",
      "Epoch 12/12\n",
      "60000/60000 [==============================] - 51s 852us/step - loss: 0.0196 - acc: 0.9934 - val_loss: 0.0416 - val_acc: 0.9876\n"
     ]
    }
   ],
   "source": [
    "#Compiling with Cross-entropy-loss and Adam Optimizer taking Accuracy as a metric\n",
    "from keras.optimizers import Adam\n",
    "model.compile(loss='categorical_crossentropy', optimizer=Adam(), metrics=['accuracy'])\n",
    "history=model.fit(X_train, y_train,batch_size=batch_size,epochs=epochs,verbose=1,validation_data=(X_test, y_test))"
   ]
  },
  {
   "cell_type": "code",
   "execution_count": 0,
   "metadata": {
    "colab": {},
    "colab_type": "code",
    "id": "Z_Kk6xnes9yi"
   },
   "outputs": [],
   "source": [
    "import matplotlib.pyplot as plt\n",
    "import numpy as np\n",
    "\n",
    "def plt_dynamic(x, vy, ty, ax, colors=['b']):\n",
    "    ax.plot(x, vy, 'b', label=\"Validation Loss\")\n",
    "    ax.plot(x, ty, 'r', label=\"Train Loss\")\n",
    "    plt.legend()\n",
    "    plt.grid()\n",
    "    fig.canvas.draw()"
   ]
  },
  {
   "cell_type": "code",
   "execution_count": 16,
   "metadata": {
    "colab": {
     "base_uri": "https://localhost:8080/",
     "height": 332
    },
    "colab_type": "code",
    "id": "zCU3DFYpyYAz",
    "outputId": "a6567bc8-a931-44c1-8ff5-b6fdcf3d809f"
   },
   "outputs": [
    {
     "name": "stdout",
     "output_type": "stream",
     "text": [
      "Test score: 0.0416184305918403\n",
      "Test accuracy: 0.9876\n"
     ]
    },
    {
     "data": {
      "image/png": "[encoded data removed]",
      "text/plain": [
       "<Figure size 432x288 with 1 Axes>"
      ]
     },
     "metadata": {
      "tags": []
     },
     "output_type": "display_data"
    }
   ],
   "source": [
    "score = model.evaluate(X_test, y_test, verbose=0) \n",
    "print('Test score:', score[0]) \n",
    "print('Test accuracy:', score[1])\n",
    "\n",
    "fig,ax = plt.subplots(1,1)\n",
    "ax.set_title('Epoch vs Loss')\n",
    "ax.set_xlabel('epoch') ; ax.set_ylabel('Categorical Crossentropy Loss')\n",
    "\n",
    "# list of epoch numbers\n",
    "x = list(range(1,epochs+1))\n",
    "\n",
    "\n",
    "vy = history.history['val_loss']\n",
    "ty = history.history['loss']\n",
    "plt_dynamic(x, vy, ty, ax)"
   ]
  },
  {
   "cell_type": "markdown",
   "metadata": {
    "colab_type": "text",
    "id": "cDJwkmcbzLnj"
   },
   "source": [
    "**Applying CNN with 5 layers**"
   ]
  },
  {
   "cell_type": "code",
   "execution_count": 36,
   "metadata": {
    "colab": {
     "base_uri": "https://localhost:8080/",
     "height": 811
    },
    "colab_type": "code",
    "id": "mV2Cvnspydyu",
    "outputId": "acc6efb5-0b11-4d64-9651-8ccf3246c027"
   },
   "outputs": [
    {
     "name": "stdout",
     "output_type": "stream",
     "text": [
      "_________________________________________________________________\n",
      "Layer (type)                 Output Shape              Param #   \n",
      "=================================================================\n",
      "conv2d_95 (Conv2D)           (None, 27, 27, 64)        320       \n",
      "_________________________________________________________________\n",
      "max_pooling2d_93 (MaxPooling (None, 27, 27, 64)        0         \n",
      "_________________________________________________________________\n",
      "conv2d_96 (Conv2D)           (None, 26, 26, 64)        16448     \n",
      "_________________________________________________________________\n",
      "dropout_28 (Dropout)         (None, 26, 26, 64)        0         \n",
      "_________________________________________________________________\n",
      "max_pooling2d_94 (MaxPooling (None, 13, 13, 64)        0         \n",
      "_________________________________________________________________\n",
      "conv2d_97 (Conv2D)           (None, 11, 11, 32)        18464     \n",
      "_________________________________________________________________\n",
      "batch_normalization_43 (Batc (None, 11, 11, 32)        44        \n",
      "_________________________________________________________________\n",
      "max_pooling2d_95 (MaxPooling (None, 11, 11, 32)        0         \n",
      "_________________________________________________________________\n",
      "conv2d_98 (Conv2D)           (None, 10, 10, 32)        4128      \n",
      "_________________________________________________________________\n",
      "batch_normalization_44 (Batc (None, 10, 10, 32)        40        \n",
      "_________________________________________________________________\n",
      "max_pooling2d_96 (MaxPooling (None, 5, 5, 32)          0         \n",
      "_________________________________________________________________\n",
      "conv2d_99 (Conv2D)           (None, 4, 4, 16)          2064      \n",
      "_________________________________________________________________\n",
      "max_pooling2d_97 (MaxPooling (None, 2, 2, 16)          0         \n",
      "_________________________________________________________________\n",
      "flatten_9 (Flatten)          (None, 64)                0         \n",
      "_________________________________________________________________\n",
      "dense_23 (Dense)             (None, 512)               33280     \n",
      "_________________________________________________________________\n",
      "activation_15 (Activation)   (None, 512)               0         \n",
      "_________________________________________________________________\n",
      "dropout_29 (Dropout)         (None, 512)               0         \n",
      "_________________________________________________________________\n",
      "dense_24 (Dense)             (None, 10)                5130      \n",
      "=================================================================\n",
      "Total params: 79,918\n",
      "Trainable params: 79,876\n",
      "Non-trainable params: 42\n",
      "_________________________________________________________________\n"
     ]
    }
   ],
   "source": [
    "#Conv2d-->Pooling-->Conv2d-->Dropout-->Pooling-->Conv2d-->BN-->Pooling-->Dropout-->Conv2D-->BN-->Pooling-->Conv2D-->Pooling-->FC-->Dropout-->Softmax\n",
    "#We will use Relu as Activation function and Adam as Optimizer\n",
    "#We will also use BatchNormalization and Dropout at suitable places\n",
    "\n",
    "model=Sequential()\n",
    "#Adding first layer\n",
    "model.add(Conv2D(64, kernel_size=(2, 2),activation='relu',input_shape=input_shape))\n",
    "model.add(MaxPooling2D(pool_size=(1, 1)))\n",
    "\n",
    "#Second layer\n",
    "model.add(Conv2D(64, kernel_size=(2, 2), activation='relu'))\n",
    "model.add(Dropout(0.25))\n",
    "model.add(MaxPooling2D(pool_size=(2,2)))\n",
    "\n",
    "#third layer\n",
    "model.add(Conv2D(32, kernel_size=(3, 3), activation='relu'))\n",
    "model.add(BatchNormalization(axis=1))\n",
    "model.add(MaxPooling2D(pool_size=(1,1)))\n",
    "\n",
    "#Fourth Layer\n",
    "model.add(Conv2D(32,kernel_size=(2,2),activation='relu'))\n",
    "model.add(BatchNormalization(axis=1))\n",
    "model.add(MaxPooling2D(pool_size=(2,2)))\n",
    "\n",
    "#Fifth Layer\n",
    "model.add(Conv2D(16,kernel_size=(2,2),activation='relu'))\n",
    "model.add(MaxPooling2D(pool_size=(2,2)))\n",
    "\n",
    "#Fully Connected layer\n",
    "#Flattening\n",
    "model.add(Flatten())\n",
    "model.add(Dense(512))\n",
    "model.add(Activation('relu'))\n",
    "model.add(Dropout(0.5))\n",
    "\n",
    "#Softmax\n",
    "model.add(Dense(num_classes, activation='softmax'))\n",
    "model.summary()"
   ]
  },
  {
   "cell_type": "code",
   "execution_count": 37,
   "metadata": {
    "colab": {
     "base_uri": "https://localhost:8080/",
     "height": 479
    },
    "colab_type": "code",
    "id": "JcOBpqfX2y3J",
    "outputId": "0c21377d-087c-4c50-fd06-f05bea4e9e54"
   },
   "outputs": [
    {
     "name": "stdout",
     "output_type": "stream",
     "text": [
      "Train on 60000 samples, validate on 10000 samples\n",
      "Epoch 1/12\n",
      "60000/60000 [==============================] - 246s 4ms/step - loss: 0.2913 - acc: 0.9065 - val_loss: 0.0726 - val_acc: 0.9789\n",
      "Epoch 2/12\n",
      "60000/60000 [==============================] - 239s 4ms/step - loss: 0.0743 - acc: 0.9771 - val_loss: 0.0622 - val_acc: 0.9821\n",
      "Epoch 3/12\n",
      "60000/60000 [==============================] - 237s 4ms/step - loss: 0.0514 - acc: 0.9844 - val_loss: 0.0655 - val_acc: 0.9805\n",
      "Epoch 4/12\n",
      "60000/60000 [==============================] - 241s 4ms/step - loss: 0.0436 - acc: 0.9867 - val_loss: 0.0488 - val_acc: 0.9844\n",
      "Epoch 5/12\n",
      "60000/60000 [==============================] - 237s 4ms/step - loss: 0.0366 - acc: 0.9886 - val_loss: 0.0416 - val_acc: 0.9867\n",
      "Epoch 6/12\n",
      "60000/60000 [==============================] - 237s 4ms/step - loss: 0.0322 - acc: 0.9900 - val_loss: 0.0430 - val_acc: 0.9864\n",
      "Epoch 7/12\n",
      "60000/60000 [==============================] - 237s 4ms/step - loss: 0.0294 - acc: 0.9910 - val_loss: 0.0307 - val_acc: 0.9905\n",
      "Epoch 8/12\n",
      "60000/60000 [==============================] - 239s 4ms/step - loss: 0.0273 - acc: 0.9913 - val_loss: 0.0266 - val_acc: 0.9925\n",
      "Epoch 9/12\n",
      "60000/60000 [==============================] - 237s 4ms/step - loss: 0.0253 - acc: 0.9919 - val_loss: 0.0267 - val_acc: 0.9917\n",
      "Epoch 10/12\n",
      "60000/60000 [==============================] - 237s 4ms/step - loss: 0.0242 - acc: 0.9926 - val_loss: 0.0328 - val_acc: 0.9906\n",
      "Epoch 11/12\n",
      "60000/60000 [==============================] - 237s 4ms/step - loss: 0.0209 - acc: 0.9930 - val_loss: 0.0309 - val_acc: 0.9904\n",
      "Epoch 12/12\n",
      "60000/60000 [==============================] - 237s 4ms/step - loss: 0.0196 - acc: 0.9939 - val_loss: 0.0365 - val_acc: 0.9908\n"
     ]
    }
   ],
   "source": [
    "#Compiling with Cross-entropy-loss and Adam Optimizer taking Accuracy as a metric\n",
    "\n",
    "model.compile(loss='categorical_crossentropy', optimizer=Adam(), metrics=['accuracy'])\n",
    "history=model.fit(X_train, y_train,batch_size=batch_size,epochs=epochs,verbose=1,validation_data=(X_test, y_test))"
   ]
  },
  {
   "cell_type": "code",
   "execution_count": 38,
   "metadata": {
    "colab": {
     "base_uri": "https://localhost:8080/",
     "height": 332
    },
    "colab_type": "code",
    "id": "yatN7eM94Aqm",
    "outputId": "6275db7c-f071-42a0-a14c-6c2a7180588e"
   },
   "outputs": [
    {
     "name": "stdout",
     "output_type": "stream",
     "text": [
      "Test score: 0.03646882001824051\n",
      "Test accuracy: 0.9908\n"
     ]
    },
    {
     "data": {
      "image/png": "[encoded data removed]",
      "text/plain": [
       "<Figure size 432x288 with 1 Axes>"
      ]
     },
     "metadata": {
      "tags": []
     },
     "output_type": "display_data"
    }
   ],
   "source": [
    "score = model.evaluate(X_test, y_test, verbose=0) \n",
    "print('Test score:', score[0]) \n",
    "print('Test accuracy:', score[1])\n",
    "\n",
    "fig,ax = plt.subplots(1,1)\n",
    "ax.set_title('Epoch vs Loss')\n",
    "ax.set_xlabel('epoch') ; ax.set_ylabel('Categorical Crossentropy Loss')\n",
    "\n",
    "# list of epoch numbers\n",
    "x = list(range(1,epochs+1))\n",
    "\n",
    "\n",
    "vy = history.history['val_loss']\n",
    "ty = history.history['loss']\n",
    "plt_dynamic(x, vy, ty, ax)"
   ]
  },
  {
   "cell_type": "markdown",
   "metadata": {
    "colab_type": "text",
    "id": "AAh9VFISDJs9"
   },
   "source": [
    "**Applying CNN with 7 layers**"
   ]
  },
  {
   "cell_type": "code",
   "execution_count": 73,
   "metadata": {
    "colab": {
     "base_uri": "https://localhost:8080/",
     "height": 1000
    },
    "colab_type": "code",
    "id": "OHkiaRwHC_vM",
    "outputId": "5ca90ff7-d49d-4cf9-fbb9-6e4c54676d41"
   },
   "outputs": [
    {
     "name": "stdout",
     "output_type": "stream",
     "text": [
      "_________________________________________________________________\n",
      "Layer (type)                 Output Shape              Param #   \n",
      "=================================================================\n",
      "conv2d_333 (Conv2D)          (None, 24, 24, 64)        1664      \n",
      "_________________________________________________________________\n",
      "max_pooling2d_325 (MaxPoolin (None, 24, 24, 64)        0         \n",
      "_________________________________________________________________\n",
      "conv2d_334 (Conv2D)          (None, 22, 22, 64)        36928     \n",
      "_________________________________________________________________\n",
      "batch_normalization_142 (Bat (None, 22, 22, 64)        88        \n",
      "_________________________________________________________________\n",
      "max_pooling2d_326 (MaxPoolin (None, 11, 11, 64)        0         \n",
      "_________________________________________________________________\n",
      "conv2d_335 (Conv2D)          (None, 9, 9, 32)          18464     \n",
      "_________________________________________________________________\n",
      "dropout_122 (Dropout)        (None, 9, 9, 32)          0         \n",
      "_________________________________________________________________\n",
      "max_pooling2d_327 (MaxPoolin (None, 9, 9, 32)          0         \n",
      "_________________________________________________________________\n",
      "conv2d_336 (Conv2D)          (None, 7, 7, 32)          9248      \n",
      "_________________________________________________________________\n",
      "dropout_123 (Dropout)        (None, 7, 7, 32)          0         \n",
      "_________________________________________________________________\n",
      "max_pooling2d_328 (MaxPoolin (None, 7, 7, 32)          0         \n",
      "_________________________________________________________________\n",
      "conv2d_337 (Conv2D)          (None, 6, 6, 16)          2064      \n",
      "_________________________________________________________________\n",
      "batch_normalization_143 (Bat (None, 6, 6, 16)          24        \n",
      "_________________________________________________________________\n",
      "max_pooling2d_329 (MaxPoolin (None, 6, 6, 16)          0         \n",
      "_________________________________________________________________\n",
      "conv2d_338 (Conv2D)          (None, 5, 5, 16)          1040      \n",
      "_________________________________________________________________\n",
      "batch_normalization_144 (Bat (None, 5, 5, 16)          20        \n",
      "_________________________________________________________________\n",
      "max_pooling2d_330 (MaxPoolin (None, 5, 5, 16)          0         \n",
      "_________________________________________________________________\n",
      "conv2d_339 (Conv2D)          (None, 3, 3, 8)           1160      \n",
      "_________________________________________________________________\n",
      "max_pooling2d_331 (MaxPoolin (None, 1, 1, 8)           0         \n",
      "_________________________________________________________________\n",
      "flatten_33 (Flatten)         (None, 8)                 0         \n",
      "_________________________________________________________________\n",
      "dense_71 (Dense)             (None, 128)               1152      \n",
      "_________________________________________________________________\n",
      "activation_39 (Activation)   (None, 128)               0         \n",
      "_________________________________________________________________\n",
      "dropout_124 (Dropout)        (None, 128)               0         \n",
      "_________________________________________________________________\n",
      "dense_72 (Dense)             (None, 10)                1290      \n",
      "=================================================================\n",
      "Total params: 73,142\n",
      "Trainable params: 73,076\n",
      "Non-trainable params: 66\n",
      "_________________________________________________________________\n"
     ]
    }
   ],
   "source": [
    "#Conv2d-->Pooling-->Conv2d-->BN-->Pooling-->Conv2d-->Dropout-->Pooling-->Conv2d-->Dropout-->Pooling-->Conv2d-->BN-->Pooling-->Dropout-->Conv2D-->BN-->Pooling-->Conv2D-->Pooling-->FC-->Dropout-->Softmax\n",
    "#We will use Relu as Activation function and Adam as Optimizer\n",
    "#We will also use BatchNormalization and Dropout at suitable places\n",
    "\n",
    "model=Sequential()\n",
    "#Adding first layer\n",
    "model.add(Conv2D(64, kernel_size=(5, 5),activation='relu',input_shape=input_shape))\n",
    "model.add(MaxPooling2D(pool_size=(1, 1)))\n",
    "\n",
    "#Adding Second Layer\n",
    "model.add(Conv2D(64,kernel_size=(3,3),activation='relu'))\n",
    "model.add(BatchNormalization(axis=1))\n",
    "model.add(MaxPooling2D(pool_size=(2,2)))\n",
    "\n",
    "#Adding Third Layer\n",
    "model.add(Conv2D(32,kernel_size=(3,3),activation='relu'))\n",
    "model.add(Dropout(0.5))\n",
    "model.add(MaxPooling2D(pool_size=(1,1)))\n",
    "\n",
    "#Fourth layer\n",
    "model.add(Conv2D(32, kernel_size=(3, 3), activation='relu'))\n",
    "model.add(Dropout(0.25))\n",
    "model.add(MaxPooling2D(pool_size=(1,1)))\n",
    "\n",
    "#Fifth layer\n",
    "model.add(Conv2D(16, kernel_size=(2, 2), activation='relu'))\n",
    "model.add(BatchNormalization(axis=1))\n",
    "model.add(MaxPooling2D(pool_size=(1,1)))\n",
    "\n",
    "#Sixth Layer\n",
    "model.add(Conv2D(16,kernel_size=(2,2),activation='relu'))\n",
    "model.add(BatchNormalization(axis=1))\n",
    "model.add(MaxPooling2D(pool_size=(1,1)))\n",
    "\n",
    "#Seventh Layer\n",
    "model.add(Conv2D(8,kernel_size=(3,3),activation='relu'))\n",
    "model.add(MaxPooling2D(pool_size=(2,2)))\n",
    "\n",
    "#Fully Connected layer\n",
    "#Flattening\n",
    "model.add(Flatten())\n",
    "model.add(Dense(128))\n",
    "model.add(Activation('relu'))\n",
    "model.add(Dropout(0.5))\n",
    "\n",
    "#Softmax\n",
    "model.add(Dense(num_classes, activation='softmax'))\n",
    "model.summary()"
   ]
  },
  {
   "cell_type": "code",
   "execution_count": 74,
   "metadata": {
    "colab": {
     "base_uri": "https://localhost:8080/",
     "height": 479
    },
    "colab_type": "code",
    "id": "r5422nDnEcz-",
    "outputId": "79384732-4e84-41fa-ac08-5be4ab87f131"
   },
   "outputs": [
    {
     "name": "stdout",
     "output_type": "stream",
     "text": [
      "Train on 60000 samples, validate on 10000 samples\n",
      "Epoch 1/12\n",
      "60000/60000 [==============================] - 294s 5ms/step - loss: 0.8691 - acc: 0.6921 - val_loss: 0.1066 - val_acc: 0.9679\n",
      "Epoch 2/12\n",
      "60000/60000 [==============================] - 288s 5ms/step - loss: 0.1616 - acc: 0.9552 - val_loss: 0.0551 - val_acc: 0.9826\n",
      "Epoch 3/12\n",
      "60000/60000 [==============================] - 288s 5ms/step - loss: 0.1080 - acc: 0.9702 - val_loss: 0.0644 - val_acc: 0.9813\n",
      "Epoch 4/12\n",
      "60000/60000 [==============================] - 285s 5ms/step - loss: 0.0826 - acc: 0.9773 - val_loss: 0.0385 - val_acc: 0.9879\n",
      "Epoch 5/12\n",
      "60000/60000 [==============================] - 288s 5ms/step - loss: 0.0736 - acc: 0.9794 - val_loss: 0.0404 - val_acc: 0.9888\n",
      "Epoch 6/12\n",
      "60000/60000 [==============================] - 284s 5ms/step - loss: 0.0646 - acc: 0.9819 - val_loss: 0.0340 - val_acc: 0.9904\n",
      "Epoch 7/12\n",
      "60000/60000 [==============================] - 288s 5ms/step - loss: 0.0575 - acc: 0.9840 - val_loss: 0.0312 - val_acc: 0.9904\n",
      "Epoch 8/12\n",
      "60000/60000 [==============================] - 294s 5ms/step - loss: 0.0543 - acc: 0.9847 - val_loss: 0.0328 - val_acc: 0.9914\n",
      "Epoch 9/12\n",
      "60000/60000 [==============================] - 294s 5ms/step - loss: 0.0500 - acc: 0.9857 - val_loss: 0.0419 - val_acc: 0.9895\n",
      "Epoch 10/12\n",
      "60000/60000 [==============================] - 294s 5ms/step - loss: 0.0482 - acc: 0.9863 - val_loss: 0.0298 - val_acc: 0.9927\n",
      "Epoch 11/12\n",
      "60000/60000 [==============================] - 294s 5ms/step - loss: 0.0481 - acc: 0.9865 - val_loss: 0.0300 - val_acc: 0.9911\n",
      "Epoch 12/12\n",
      "60000/60000 [==============================] - 295s 5ms/step - loss: 0.0417 - acc: 0.9887 - val_loss: 0.0322 - val_acc: 0.9914\n"
     ]
    }
   ],
   "source": [
    "#Compiling with Cross-entropy-loss and Adam Optimizer taking Accuracy as a metric\n",
    "\n",
    "model.compile(loss='categorical_crossentropy', optimizer=Adam(), metrics=['accuracy'])\n",
    "history=model.fit(X_train, y_train,batch_size=batch_size,epochs=epochs,verbose=1,validation_data=(X_test, y_test))"
   ]
  },
  {
   "cell_type": "code",
   "execution_count": 75,
   "metadata": {
    "colab": {
     "base_uri": "https://localhost:8080/",
     "height": 332
    },
    "colab_type": "code",
    "id": "Etks05viGntN",
    "outputId": "dbc25804-537d-4dc7-8b1d-3049a9d2bd08"
   },
   "outputs": [
    {
     "name": "stdout",
     "output_type": "stream",
     "text": [
      "Test score: 0.032224515436636285\n",
      "Test accuracy: 0.9914\n"
     ]
    },
    {
     "data": {
      "image/png": "[encoded data removed]",
      "text/plain": [
       "<Figure size 432x288 with 1 Axes>"
      ]
     },
     "metadata": {
      "tags": []
     },
     "output_type": "display_data"
    }
   ],
   "source": [
    "score = model.evaluate(X_test, y_test, verbose=0) \n",
    "print('Test score:', score[0]) \n",
    "print('Test accuracy:', score[1])\n",
    "\n",
    "fig,ax = plt.subplots(1,1)\n",
    "ax.set_title('Epoch vs Loss')\n",
    "ax.set_xlabel('epoch') ; ax.set_ylabel('Categorical Crossentropy Loss')\n",
    "\n",
    "# list of epoch numbers\n",
    "x = list(range(1,epochs+1))\n",
    "\n",
    "\n",
    "vy = history.history['val_loss']\n",
    "ty = history.history['loss']\n",
    "plt_dynamic(x, vy, ty, ax)"
   ]
  },
  {
   "cell_type": "markdown",
   "metadata": {
    "colab_type": "text",
    "id": "DfA-PxoHULhb"
   },
   "source": [
    "**Observations**"
   ]
  },
  {
   "cell_type": "code",
   "execution_count": 76,
   "metadata": {
    "colab": {
     "base_uri": "https://localhost:8080/",
     "height": 146
    },
    "colab_type": "code",
    "id": "r7JOkY59T9Ta",
    "outputId": "5ab00eb2-712c-4695-b5e1-96c564ee3074"
   },
   "outputs": [
    {
     "name": "stdout",
     "output_type": "stream",
     "text": [
      "+--------------+------------+\n",
      "| No of layers | Accuracy % |\n",
      "+--------------+------------+\n",
      "|      3       |   98.76    |\n",
      "|      5       |   99.08    |\n",
      "|      7       |   99.14    |\n",
      "+--------------+------------+\n"
     ]
    }
   ],
   "source": [
    "from prettytable import PrettyTable    \n",
    "x = PrettyTable()\n",
    "x.field_names = [\"No of layers\", \"Accuracy %\"]\n",
    "\n",
    "x.add_row([\"3\",\"98.76\"])\n",
    "x.add_row([\"5\",\"99.08\"])\n",
    "x.add_row([\"7\",\"99.14\"])\n",
    "\n",
    "\n",
    "\n",
    "print(x)"
   ]
  },
  {
   "cell_type": "markdown",
   "metadata": {
    "colab_type": "text",
    "id": "Fa8JoCxOUxuK"
   },
   "source": [
    "**Our 3 layer model arranged in this order:**\n",
    "\n",
    "*Conv2d-->Max Pooling-->Conv2d-->Max Pooling-->Conv2d-->BN-->Max      Pooling-->FC-->Dropout-->Softmax*\n",
    "\n",
    "**Our 5 layer model arranged in :** \n",
    " \n",
    "*Conv2d-->Pooling-->Conv2d-->Dropout-->Pooling-->Conv2d-->BN-->Pooling-->Dropout-->Conv2D-->BN-->Pooling-->Conv2D-->Pooling-->FC-->Dropout-->Softmax*\n",
    "\n",
    "**Our 7 layer model arranged in:** \n",
    "\n",
    "*Conv2d-->Pooling-->Conv2d-->BN-->Pooling-->Conv2d-->Dropout-->Pooling-->Conv2d-->Dropout-->Pooling-->Conv2d-->BN-->Pooling-->Dropout-->Conv2D-->BN-->Pooling-->Conv2D-->Pooling-->FC-->Dropout-->Softmax*\n",
    "\n",
    "Where BN= Batch Normalization and FC= Fully Connected.\n",
    "\n",
    "We used different kernel_size and pool_size for our different layers and we can observe that after increasing number of layers our accuracy increases. We applied batch normalisation not at all layers to reduce internal covariate shift."
   ]
  },
  {
   "cell_type": "code",
   "execution_count": 0,
   "metadata": {
    "colab": {},
    "colab_type": "code",
    "id": "-9in8ivZUvon"
   },
   "outputs": [],
   "source": []
  }
 ],
 "metadata": {
  "colab": {
   "collapsed_sections": [],
   "name": "CNN_MNIST_KERAS.ipynb",
   "provenance": [],
   "version": "0.3.2"
  },
  "kernelspec": {
   "display_name": "Python 3",
   "language": "python",
   "name": "python3"
  },
  "language_info": {
   "codemirror_mode": {
    "name": "ipython",
    "version": 3
   },
   "file_extension": ".py",
   "mimetype": "text/x-python",
   "name": "python",
   "nbconvert_exporter": "python",
   "pygments_lexer": "ipython3",
   "version": "3.7.3"
  }
 },
 "nbformat": 4,
 "nbformat_minor": 1
}
