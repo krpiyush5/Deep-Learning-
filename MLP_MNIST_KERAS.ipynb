{
 "cells": [
  {
   "cell_type": "markdown",
   "metadata": {
    "colab_type": "text",
    "id": "XIOvBdBzSc7g"
   },
   "source": [
    "**MLP on MNIST using Keras**"
   ]
  },
  {
   "cell_type": "code",
   "execution_count": 1,
   "metadata": {
    "colab": {
     "base_uri": "https://localhost:8080/",
     "height": 35
    },
    "colab_type": "code",
    "id": "CBoUJUqkXj4p",
    "outputId": "5e4c36bb-9daa-4350-ed92-ba3ff012eb4d"
   },
   "outputs": [
    {
     "name": "stderr",
     "output_type": "stream",
     "text": [
      "Using TensorFlow backend.\n"
     ]
    }
   ],
   "source": [
    "from keras.utils import np_utils \n",
    "from keras.datasets import mnist \n",
    "import seaborn as sns\n",
    "from keras.initializers import RandomNormal"
   ]
  },
  {
   "cell_type": "code",
   "execution_count": 2,
   "metadata": {
    "colab": {
     "base_uri": "https://localhost:8080/",
     "height": 54
    },
    "colab_type": "code",
    "id": "qEBxpZD2XnXs",
    "outputId": "3eee683e-28a2-461e-f77a-38170b92da2f"
   },
   "outputs": [
    {
     "name": "stdout",
     "output_type": "stream",
     "text": [
      "Downloading data from https://s3.amazonaws.com/img-datasets/mnist.npz\n",
      "11493376/11490434 [==============================] - 3s 0us/step\n"
     ]
    }
   ],
   "source": [
    "#loading the data and splitting\n",
    "\n",
    "(X_train,y_train),(X_test,y_test)=mnist.load_data()\n"
   ]
  },
  {
   "cell_type": "code",
   "execution_count": 3,
   "metadata": {
    "colab": {
     "base_uri": "https://localhost:8080/",
     "height": 54
    },
    "colab_type": "code",
    "id": "9AR6h8IfX1_P",
    "outputId": "c4e38e87-f678-4d83-9e93-84f9f3a63a90"
   },
   "outputs": [
    {
     "name": "stdout",
     "output_type": "stream",
     "text": [
      "Number of training examples : 60000 and each image is of shape (28, 28)\n",
      "Number of training examples : 10000 and each image is of shape (28, 28)\n"
     ]
    }
   ],
   "source": [
    "print(\"Number of training examples :\", X_train.shape[0], \"and each image is of shape (%d, %d)\"%(X_train.shape[1], X_train.shape[2]))\n",
    "print(\"Number of training examples :\", X_test.shape[0], \"and each image is of shape (%d, %d)\"%(X_test.shape[1], X_test.shape[2]))"
   ]
  },
  {
   "cell_type": "code",
   "execution_count": 4,
   "metadata": {
    "colab": {
     "base_uri": "https://localhost:8080/",
     "height": 54
    },
    "colab_type": "code",
    "id": "4qNHdufgYT2s",
    "outputId": "2e6923b8-1c62-4f3c-b77c-82e6539b17c5"
   },
   "outputs": [
    {
     "name": "stdout",
     "output_type": "stream",
     "text": [
      "Number of training examples : 60000 and each image is of shape (784)\n",
      "Number of training examples : 10000 and each image is of shape (784)\n"
     ]
    }
   ],
   "source": [
    "#we have 28*28 vector for each image\n",
    "#we will convert it into single dimensional vector\n",
    "\n",
    "\n",
    "X_train = X_train.reshape(X_train.shape[0], X_train.shape[1]*X_train.shape[2]) \n",
    "X_test = X_test.reshape(X_test.shape[0], X_test.shape[1]*X_test.shape[2]) \n",
    "\n",
    "\n",
    "print(\"Number of training examples :\", X_train.shape[0], \"and each image is of shape (%d)\"%(X_train.shape[1]))\n",
    "print(\"Number of training examples :\", X_test.shape[0], \"and each image is of shape (%d)\"%(X_test.shape[1]))"
   ]
  },
  {
   "cell_type": "code",
   "execution_count": 0,
   "metadata": {
    "colab": {},
    "colab_type": "code",
    "id": "bE2tz2sn6biC"
   },
   "outputs": [],
   "source": [
    "#normalizing the data\n",
    "# X => (X - Xmin)/(Xmax-Xmin) = X/255\n",
    "X_train = X_train/255\n",
    "X_test = X_test/255"
   ]
  },
  {
   "cell_type": "code",
   "execution_count": 6,
   "metadata": {
    "colab": {
     "base_uri": "https://localhost:8080/",
     "height": 35
    },
    "colab_type": "code",
    "id": "IP1J4Hze6nlm",
    "outputId": "86c0cb06-c3be-4170-d67d-1572a591c319"
   },
   "outputs": [
    {
     "name": "stdout",
     "output_type": "stream",
     "text": [
      "After converting the output into a vector :  [0. 0. 0. 0. 0. 1. 0. 0. 0. 0.]\n"
     ]
    }
   ],
   "source": [
    "#Let's do one-hot encoding on y_test and y_train\n",
    "Y_train = np_utils.to_categorical(y_train, 10) \n",
    "Y_test = np_utils.to_categorical(y_test, 10)\n",
    "\n",
    "print(\"After converting the output into a vector : \",Y_train[0])"
   ]
  },
  {
   "cell_type": "code",
   "execution_count": 0,
   "metadata": {
    "colab": {},
    "colab_type": "code",
    "id": "YmW5Sc6m6q8q"
   },
   "outputs": [],
   "source": [
    "from keras.models import Sequential \n",
    "from keras.layers import Dense, Activation "
   ]
  },
  {
   "cell_type": "markdown",
   "metadata": {
    "colab_type": "text",
    "id": "6gsFFrggVg1l"
   },
   "source": [
    "**MLP with 2 hidden layers + RELU + BatchNormalisation + AdamOpltimizer**"
   ]
  },
  {
   "cell_type": "code",
   "execution_count": 0,
   "metadata": {
    "colab": {},
    "colab_type": "code",
    "id": "P_hQa_CK7gQ6"
   },
   "outputs": [],
   "source": [
    "# some model parameters\n",
    "\n",
    "output_dim = 10\n",
    "input_dim = X_train.shape[1]\n",
    "\n",
    "batch_size = 128 \n",
    "nb_epoch = 20"
   ]
  },
  {
   "cell_type": "code",
   "execution_count": 9,
   "metadata": {
    "colab": {
     "base_uri": "https://localhost:8080/",
     "height": 554
    },
    "colab_type": "code",
    "id": "4nhCg-Jd7qfV",
    "outputId": "eee781c7-8dfb-4468-8557-3330396fa3f8"
   },
   "outputs": [
    {
     "name": "stderr",
     "output_type": "stream",
     "text": [
      "WARNING: Logging before flag parsing goes to stderr.\n",
      "W0628 19:08:35.011224 140468860983168 deprecation_wrapper.py:119] From /usr/local/lib/python3.6/dist-packages/keras/backend/tensorflow_backend.py:74: The name tf.get_default_graph is deprecated. Please use tf.compat.v1.get_default_graph instead.\n",
      "\n",
      "W0628 19:08:35.046236 140468860983168 deprecation_wrapper.py:119] From /usr/local/lib/python3.6/dist-packages/keras/backend/tensorflow_backend.py:517: The name tf.placeholder is deprecated. Please use tf.compat.v1.placeholder instead.\n",
      "\n",
      "W0628 19:08:35.053457 140468860983168 deprecation_wrapper.py:119] From /usr/local/lib/python3.6/dist-packages/keras/backend/tensorflow_backend.py:4115: The name tf.random_normal is deprecated. Please use tf.random.normal instead.\n",
      "\n",
      "W0628 19:08:35.166637 140468860983168 deprecation_wrapper.py:119] From /usr/local/lib/python3.6/dist-packages/keras/backend/tensorflow_backend.py:133: The name tf.placeholder_with_default is deprecated. Please use tf.compat.v1.placeholder_with_default instead.\n",
      "\n",
      "W0628 19:08:35.304924 140468860983168 deprecation_wrapper.py:119] From /usr/local/lib/python3.6/dist-packages/keras/backend/tensorflow_backend.py:4138: The name tf.random_uniform is deprecated. Please use tf.random.uniform instead.\n",
      "\n"
     ]
    },
    {
     "name": "stdout",
     "output_type": "stream",
     "text": [
      "_________________________________________________________________\n",
      "Layer (type)                 Output Shape              Param #   \n",
      "=================================================================\n",
      "dense_1 (Dense)              (None, 450)               353250    \n",
      "_________________________________________________________________\n",
      "batch_normalization_1 (Batch (None, 450)               1800      \n",
      "_________________________________________________________________\n",
      "dense_2 (Dense)              (None, 125)               56375     \n",
      "_________________________________________________________________\n",
      "batch_normalization_2 (Batch (None, 125)               500       \n",
      "_________________________________________________________________\n",
      "dense_3 (Dense)              (None, 10)                1260      \n",
      "=================================================================\n",
      "Total params: 413,185\n",
      "Trainable params: 412,035\n",
      "Non-trainable params: 1,150\n",
      "_________________________________________________________________\n"
     ]
    }
   ],
   "source": [
    "#importing batchNormalization\n",
    "from keras.layers.normalization import BatchNormalization\n",
    "\n",
    "model_relu = Sequential()\n",
    "#Let's take dimension of first and second hidden layer 450 and 125 respectively\n",
    "# If we sample weights from a normal distribution N(0,σ) we satisfy this condition with σ=√(2/(ni). \n",
    "# h1 =>  σ=√(2/(fan_in) = 0.066  => N(0,σ) = N(0,0.066)\n",
    "# h2 =>  σ=√(2/(fan_in) = 0.126  => N(0,σ) = N(0,0.126)\n",
    "\n",
    "model_relu.add(Dense(450, activation='relu', input_shape=(input_dim,), kernel_initializer=RandomNormal(mean=0.0, stddev=0.066, seed=None)))\n",
    "model_relu.add(BatchNormalization())\n",
    "model_relu.add(Dense(125, activation='relu', kernel_initializer=RandomNormal(mean=0.0, stddev=0.126, seed=None)) )\n",
    "model_relu.add(BatchNormalization())\n",
    "model_relu.add(Dense(output_dim, activation='softmax'))\n",
    "\n",
    "model_relu.summary()"
   ]
  },
  {
   "cell_type": "code",
   "execution_count": 10,
   "metadata": {
    "colab": {
     "base_uri": "https://localhost:8080/",
     "height": 886
    },
    "colab_type": "code",
    "id": "l_NkTp5E8DsV",
    "outputId": "1c090ce4-d40b-45e4-818e-9cfca34a4625"
   },
   "outputs": [
    {
     "name": "stderr",
     "output_type": "stream",
     "text": [
      "W0628 19:08:35.335697 140468860983168 deprecation_wrapper.py:119] From /usr/local/lib/python3.6/dist-packages/keras/optimizers.py:790: The name tf.train.Optimizer is deprecated. Please use tf.compat.v1.train.Optimizer instead.\n",
      "\n",
      "W0628 19:08:35.473053 140468860983168 deprecation.py:323] From /usr/local/lib/python3.6/dist-packages/tensorflow/python/ops/math_grad.py:1250: add_dispatch_support.<locals>.wrapper (from tensorflow.python.ops.array_ops) is deprecated and will be removed in a future version.\n",
      "Instructions for updating:\n",
      "Use tf.where in 2.0, which has the same broadcast rule as np.where\n"
     ]
    },
    {
     "name": "stdout",
     "output_type": "stream",
     "text": [
      "Train on 60000 samples, validate on 10000 samples\n",
      "Epoch 1/20\n",
      "60000/60000 [==============================] - 8s 132us/step - loss: 0.2102 - acc: 0.9369 - val_loss: 0.1060 - val_acc: 0.9671\n",
      "Epoch 2/20\n",
      "60000/60000 [==============================] - 7s 113us/step - loss: 0.0754 - acc: 0.9773 - val_loss: 0.0961 - val_acc: 0.9695\n",
      "Epoch 3/20\n",
      "60000/60000 [==============================] - 7s 113us/step - loss: 0.0455 - acc: 0.9862 - val_loss: 0.0824 - val_acc: 0.9745\n",
      "Epoch 4/20\n",
      "60000/60000 [==============================] - 7s 112us/step - loss: 0.0327 - acc: 0.9900 - val_loss: 0.0780 - val_acc: 0.9757\n",
      "Epoch 5/20\n",
      "60000/60000 [==============================] - 7s 113us/step - loss: 0.0234 - acc: 0.9932 - val_loss: 0.0776 - val_acc: 0.9760\n",
      "Epoch 6/20\n",
      "60000/60000 [==============================] - 7s 113us/step - loss: 0.0174 - acc: 0.9949 - val_loss: 0.0759 - val_acc: 0.9783\n",
      "Epoch 7/20\n",
      "60000/60000 [==============================] - 7s 114us/step - loss: 0.0161 - acc: 0.9951 - val_loss: 0.0876 - val_acc: 0.9745\n",
      "Epoch 8/20\n",
      "60000/60000 [==============================] - 7s 115us/step - loss: 0.0154 - acc: 0.9952 - val_loss: 0.0784 - val_acc: 0.9778\n",
      "Epoch 9/20\n",
      "60000/60000 [==============================] - 7s 116us/step - loss: 0.0162 - acc: 0.9948 - val_loss: 0.0743 - val_acc: 0.9800\n",
      "Epoch 10/20\n",
      "60000/60000 [==============================] - 7s 115us/step - loss: 0.0136 - acc: 0.9954 - val_loss: 0.0753 - val_acc: 0.9806\n",
      "Epoch 11/20\n",
      "60000/60000 [==============================] - 7s 116us/step - loss: 0.0108 - acc: 0.9967 - val_loss: 0.0754 - val_acc: 0.9815\n",
      "Epoch 12/20\n",
      "60000/60000 [==============================] - 7s 115us/step - loss: 0.0084 - acc: 0.9974 - val_loss: 0.0788 - val_acc: 0.9801\n",
      "Epoch 13/20\n",
      "60000/60000 [==============================] - 7s 114us/step - loss: 0.0103 - acc: 0.9968 - val_loss: 0.0930 - val_acc: 0.9765\n",
      "Epoch 14/20\n",
      "60000/60000 [==============================] - 7s 118us/step - loss: 0.0113 - acc: 0.9959 - val_loss: 0.0848 - val_acc: 0.9793\n",
      "Epoch 15/20\n",
      "60000/60000 [==============================] - 7s 117us/step - loss: 0.0082 - acc: 0.9972 - val_loss: 0.0778 - val_acc: 0.9801\n",
      "Epoch 16/20\n",
      "60000/60000 [==============================] - 7s 115us/step - loss: 0.0075 - acc: 0.9976 - val_loss: 0.0828 - val_acc: 0.9787\n",
      "Epoch 17/20\n",
      "60000/60000 [==============================] - 7s 115us/step - loss: 0.0065 - acc: 0.9981 - val_loss: 0.1021 - val_acc: 0.9759\n",
      "Epoch 18/20\n",
      "60000/60000 [==============================] - 7s 117us/step - loss: 0.0078 - acc: 0.9976 - val_loss: 0.0810 - val_acc: 0.9796\n",
      "Epoch 19/20\n",
      "60000/60000 [==============================] - 7s 117us/step - loss: 0.0061 - acc: 0.9980 - val_loss: 0.0829 - val_acc: 0.9806\n",
      "Epoch 20/20\n",
      "60000/60000 [==============================] - 7s 116us/step - loss: 0.0062 - acc: 0.9979 - val_loss: 0.0884 - val_acc: 0.9781\n"
     ]
    }
   ],
   "source": [
    "#Applying adam optimizer to minimize cross entropy loss\n",
    "model_relu.compile(optimizer='adam', loss='categorical_crossentropy', metrics=['accuracy'])\n",
    "\n",
    "history = model_relu.fit(X_train, Y_train, batch_size=batch_size, epochs=nb_epoch, verbose=1, validation_data=(X_test, Y_test))"
   ]
  },
  {
   "cell_type": "code",
   "execution_count": 0,
   "metadata": {
    "colab": {},
    "colab_type": "code",
    "id": "q_6CR-Yj8RRw"
   },
   "outputs": [],
   "source": [
    "import matplotlib.pyplot as plt\n",
    "import numpy as np\n",
    "\n",
    "def plt_dynamic(x, vy, ty, ax, colors=['b']):\n",
    "    ax.plot(x, vy, 'b', label=\"Validation Loss\")\n",
    "    ax.plot(x, ty, 'r', label=\"Train Loss\")\n",
    "    plt.legend()\n",
    "    plt.grid()\n",
    "    fig.canvas.draw()"
   ]
  },
  {
   "cell_type": "code",
   "execution_count": 14,
   "metadata": {
    "colab": {
     "base_uri": "https://localhost:8080/",
     "height": 332
    },
    "colab_type": "code",
    "id": "1s2Bd2dz9JGW",
    "outputId": "16087c64-0bbd-4ca0-9e31-246d96b203fe"
   },
   "outputs": [
    {
     "name": "stdout",
     "output_type": "stream",
     "text": [
      "Test score: 0.08836428574263192\n",
      "Test accuracy: 0.9781\n"
     ]
    },
    {
     "data": {
      "image/png": "[encoded data removed]",
      "text/plain": [
       "<Figure size 432x288 with 1 Axes>"
      ]
     },
     "metadata": {
      "tags": []
     },
     "output_type": "display_data"
    }
   ],
   "source": [
    "score = model_relu.evaluate(X_test, Y_test, verbose=0) \n",
    "print('Test score:', score[0]) \n",
    "print('Test accuracy:', score[1])\n",
    "\n",
    "fig,ax = plt.subplots(1,1)\n",
    "ax.set_title('Epoch vs Loss')\n",
    "ax.set_xlabel('epoch') ; ax.set_ylabel('Categorical Crossentropy Loss')\n",
    "\n",
    "# list of epoch numbers\n",
    "x = list(range(1,nb_epoch+1))\n",
    "\n",
    "\n",
    "vy = history.history['val_loss']\n",
    "ty = history.history['loss']\n",
    "plt_dynamic(x, vy, ty, ax)"
   ]
  },
  {
   "cell_type": "markdown",
   "metadata": {
    "colab_type": "text",
    "id": "xf6zhPUzdhou"
   },
   "source": [
    "**MLP with 2 hidden layers + RELU + BatchNormalisation + Dropout + AdamOpltimizer**"
   ]
  },
  {
   "cell_type": "code",
   "execution_count": 17,
   "metadata": {
    "colab": {
     "base_uri": "https://localhost:8080/",
     "height": 480
    },
    "colab_type": "code",
    "id": "imVa3xlf9ipa",
    "outputId": "3101050a-ac31-4e0b-9e3c-4733bdc40851"
   },
   "outputs": [
    {
     "name": "stderr",
     "output_type": "stream",
     "text": [
      "W0628 19:13:02.983079 140468860983168 deprecation.py:506] From /usr/local/lib/python3.6/dist-packages/keras/backend/tensorflow_backend.py:3445: calling dropout (from tensorflow.python.ops.nn_ops) with keep_prob is deprecated and will be removed in a future version.\n",
      "Instructions for updating:\n",
      "Please use `rate` instead of `keep_prob`. Rate should be set to `rate = 1 - keep_prob`.\n"
     ]
    },
    {
     "name": "stdout",
     "output_type": "stream",
     "text": [
      "_________________________________________________________________\n",
      "Layer (type)                 Output Shape              Param #   \n",
      "=================================================================\n",
      "dense_6 (Dense)              (None, 450)               353250    \n",
      "_________________________________________________________________\n",
      "batch_normalization_5 (Batch (None, 450)               1800      \n",
      "_________________________________________________________________\n",
      "dropout_1 (Dropout)          (None, 450)               0         \n",
      "_________________________________________________________________\n",
      "dense_7 (Dense)              (None, 125)               56375     \n",
      "_________________________________________________________________\n",
      "batch_normalization_6 (Batch (None, 125)               500       \n",
      "_________________________________________________________________\n",
      "dropout_2 (Dropout)          (None, 125)               0         \n",
      "_________________________________________________________________\n",
      "dense_8 (Dense)              (None, 10)                1260      \n",
      "=================================================================\n",
      "Total params: 413,185\n",
      "Trainable params: 412,035\n",
      "Non-trainable params: 1,150\n",
      "_________________________________________________________________\n"
     ]
    }
   ],
   "source": [
    "#importing batchNormalization\n",
    "from keras.layers.normalization import BatchNormalization\n",
    "from keras.layers import Dropout\n",
    "model_relu = Sequential()\n",
    "#Let's take dimension of first and second hidden layer 450 and 125 respectively\n",
    "# If we sample weights from a normal distribution N(0,σ) we satisfy this condition with σ=√(2/(ni). \n",
    "# h1 =>  σ=√(2/(fan_in) = 0.066  => N(0,σ) = N(0,0.066)\n",
    "# h2 =>  σ=√(2/(fan_in) = 0.126  => N(0,σ) = N(0,0.126)\n",
    "\n",
    "model_relu.add(Dense(450, activation='relu', input_shape=(input_dim,), kernel_initializer=RandomNormal(mean=0.0, stddev=0.066, seed=None)))\n",
    "model_relu.add(BatchNormalization())\n",
    "model_relu.add(Dropout(0.5))\n",
    "model_relu.add(Dense(125, activation='relu', kernel_initializer=RandomNormal(mean=0.0, stddev=0.126, seed=None)) )\n",
    "model_relu.add(BatchNormalization())\n",
    "model_relu.add(Dropout(0.5))\n",
    "model_relu.add(Dense(output_dim, activation='softmax'))\n",
    "\n",
    "model_relu.summary()"
   ]
  },
  {
   "cell_type": "code",
   "execution_count": 20,
   "metadata": {
    "colab": {
     "base_uri": "https://localhost:8080/",
     "height": 959
    },
    "colab_type": "code",
    "id": "Qg_5uNrT-Ye0",
    "outputId": "f98999d5-d254-4f00-e643-6d8aea235d99"
   },
   "outputs": [
    {
     "name": "stdout",
     "output_type": "stream",
     "text": [
      "Train on 60000 samples, validate on 10000 samples\n",
      "Epoch 1/25\n",
      "60000/60000 [==============================] - 8s 132us/step - loss: 0.0580 - acc: 0.9815 - val_loss: 0.0585 - val_acc: 0.9826\n",
      "Epoch 2/25\n",
      "60000/60000 [==============================] - 7s 117us/step - loss: 0.0514 - acc: 0.9832 - val_loss: 0.0570 - val_acc: 0.9822\n",
      "Epoch 3/25\n",
      "60000/60000 [==============================] - 7s 119us/step - loss: 0.0534 - acc: 0.9830 - val_loss: 0.0530 - val_acc: 0.9838\n",
      "Epoch 4/25\n",
      "60000/60000 [==============================] - 7s 119us/step - loss: 0.0524 - acc: 0.9827 - val_loss: 0.0576 - val_acc: 0.9831\n",
      "Epoch 5/25\n",
      "60000/60000 [==============================] - 7s 122us/step - loss: 0.0502 - acc: 0.9841 - val_loss: 0.0574 - val_acc: 0.9832\n",
      "Epoch 6/25\n",
      "60000/60000 [==============================] - 7s 121us/step - loss: 0.0483 - acc: 0.9842 - val_loss: 0.0594 - val_acc: 0.9832\n",
      "Epoch 7/25\n",
      "60000/60000 [==============================] - 7s 122us/step - loss: 0.0491 - acc: 0.9843 - val_loss: 0.0587 - val_acc: 0.9829\n",
      "Epoch 8/25\n",
      "60000/60000 [==============================] - 7s 123us/step - loss: 0.0469 - acc: 0.9849 - val_loss: 0.0573 - val_acc: 0.9829\n",
      "Epoch 9/25\n",
      "60000/60000 [==============================] - 7s 123us/step - loss: 0.0463 - acc: 0.9844 - val_loss: 0.0608 - val_acc: 0.9839\n",
      "Epoch 10/25\n",
      "60000/60000 [==============================] - 7s 120us/step - loss: 0.0445 - acc: 0.9853 - val_loss: 0.0591 - val_acc: 0.9838\n",
      "Epoch 11/25\n",
      "60000/60000 [==============================] - 7s 121us/step - loss: 0.0439 - acc: 0.9861 - val_loss: 0.0621 - val_acc: 0.9827\n",
      "Epoch 12/25\n",
      "60000/60000 [==============================] - 7s 119us/step - loss: 0.0410 - acc: 0.9867 - val_loss: 0.0608 - val_acc: 0.9833\n",
      "Epoch 13/25\n",
      "60000/60000 [==============================] - 7s 120us/step - loss: 0.0409 - acc: 0.9868 - val_loss: 0.0574 - val_acc: 0.9840\n",
      "Epoch 14/25\n",
      "60000/60000 [==============================] - 7s 123us/step - loss: 0.0410 - acc: 0.9866 - val_loss: 0.0559 - val_acc: 0.9838\n",
      "Epoch 15/25\n",
      "60000/60000 [==============================] - 7s 121us/step - loss: 0.0394 - acc: 0.9871 - val_loss: 0.0656 - val_acc: 0.9822\n",
      "Epoch 16/25\n",
      "60000/60000 [==============================] - 7s 122us/step - loss: 0.0373 - acc: 0.9879 - val_loss: 0.0589 - val_acc: 0.9847\n",
      "Epoch 17/25\n",
      "60000/60000 [==============================] - 7s 122us/step - loss: 0.0363 - acc: 0.9880 - val_loss: 0.0573 - val_acc: 0.9851\n",
      "Epoch 18/25\n",
      "60000/60000 [==============================] - 7s 118us/step - loss: 0.0359 - acc: 0.9885 - val_loss: 0.0559 - val_acc: 0.9841\n",
      "Epoch 19/25\n",
      "60000/60000 [==============================] - 7s 117us/step - loss: 0.0368 - acc: 0.9879 - val_loss: 0.0645 - val_acc: 0.9821\n",
      "Epoch 20/25\n",
      "60000/60000 [==============================] - 7s 120us/step - loss: 0.0360 - acc: 0.9877 - val_loss: 0.0556 - val_acc: 0.9853\n",
      "Epoch 21/25\n",
      "60000/60000 [==============================] - 7s 117us/step - loss: 0.0341 - acc: 0.9893 - val_loss: 0.0593 - val_acc: 0.9833\n",
      "Epoch 22/25\n",
      "60000/60000 [==============================] - 7s 122us/step - loss: 0.0342 - acc: 0.9890 - val_loss: 0.0595 - val_acc: 0.9844\n",
      "Epoch 23/25\n",
      "60000/60000 [==============================] - 7s 124us/step - loss: 0.0321 - acc: 0.9897 - val_loss: 0.0611 - val_acc: 0.9839\n",
      "Epoch 24/25\n",
      "60000/60000 [==============================] - 7s 120us/step - loss: 0.0331 - acc: 0.9893 - val_loss: 0.0581 - val_acc: 0.9847\n",
      "Epoch 25/25\n",
      "60000/60000 [==============================] - 7s 121us/step - loss: 0.0330 - acc: 0.9894 - val_loss: 0.0627 - val_acc: 0.9836\n"
     ]
    }
   ],
   "source": [
    "#Applying adam optimizer to minimize cross entropy loss\n",
    "model_relu.compile(optimizer='adam', loss='categorical_crossentropy', metrics=['accuracy'])\n",
    "#let no of epoch=25\n",
    "history = model_relu.fit(X_train, Y_train, batch_size=batch_size, epochs=25, verbose=1, validation_data=(X_test, Y_test))"
   ]
  },
  {
   "cell_type": "code",
   "execution_count": 22,
   "metadata": {
    "colab": {
     "base_uri": "https://localhost:8080/",
     "height": 332
    },
    "colab_type": "code",
    "id": "ndVEREZFCWoo",
    "outputId": "a3fc5f34-6bbe-4021-da53-1eefb7ede391"
   },
   "outputs": [
    {
     "name": "stdout",
     "output_type": "stream",
     "text": [
      "Test score: 0.06270100064466387\n",
      "Test accuracy: 0.9836\n"
     ]
    },
    {
     "data": {
      "image/png": "[encoded data removed]",
      "text/plain": [
       "<Figure size 432x288 with 1 Axes>"
      ]
     },
     "metadata": {
      "tags": []
     },
     "output_type": "display_data"
    }
   ],
   "source": [
    "score = model_relu.evaluate(X_test, Y_test, verbose=0) \n",
    "print('Test score:', score[0]) \n",
    "print('Test accuracy:', score[1])\n",
    "\n",
    "fig,ax = plt.subplots(1,1)\n",
    "ax.set_title('Epoch vs Loss')\n",
    "ax.set_xlabel('epoch') ; ax.set_ylabel('Categorical Crossentropy Loss')\n",
    "\n",
    "# list of epoch numbers\n",
    "x = list(range(1,26))\n",
    "\n",
    "\n",
    "vy = history.history['val_loss']\n",
    "ty = history.history['loss']\n",
    "plt_dynamic(x, vy, ty, ax)"
   ]
  },
  {
   "cell_type": "markdown",
   "metadata": {
    "colab_type": "text",
    "id": "YNtMRdt8iiLI"
   },
   "source": [
    "\n",
    "**MLP with 3 hidden layers + RELU + BatchNormalisation + Without Dropout + AdamOpltimizer**\n"
   ]
  },
  {
   "cell_type": "code",
   "execution_count": 27,
   "metadata": {
    "colab": {
     "base_uri": "https://localhost:8080/",
     "height": 331
    },
    "colab_type": "code",
    "id": "AoSQ1-t2HXV4",
    "outputId": "61ceb17a-5240-4af9-b294-6b352e769ab8"
   },
   "outputs": [
    {
     "name": "stdout",
     "output_type": "stream",
     "text": [
      "_________________________________________________________________\n",
      "Layer (type)                 Output Shape              Param #   \n",
      "=================================================================\n",
      "dense_9 (Dense)              (None, 500)               392500    \n",
      "_________________________________________________________________\n",
      "dense_10 (Dense)             (None, 300)               150300    \n",
      "_________________________________________________________________\n",
      "batch_normalization_7 (Batch (None, 300)               1200      \n",
      "_________________________________________________________________\n",
      "dense_11 (Dense)             (None, 100)               30100     \n",
      "_________________________________________________________________\n",
      "dense_12 (Dense)             (None, 10)                1010      \n",
      "=================================================================\n",
      "Total params: 575,110\n",
      "Trainable params: 574,510\n",
      "Non-trainable params: 600\n",
      "_________________________________________________________________\n"
     ]
    }
   ],
   "source": [
    "#importing batchNormalization\n",
    "from keras.layers.normalization import BatchNormalization\n",
    "\n",
    "model_relu = Sequential()\n",
    "#Let's take dimension of first, second and third hidden layer 500, 300 and 100 respectively\n",
    "# If we sample weights from a normal distribution N(0,σ) we satisfy this condition with σ=√(2/(ni). \n",
    "# h1 =>  σ=√(2/(fan_in) = 0.063  => N(0,σ) = N(0,0.063)\n",
    "# h2 =>  σ=√(2/(fan_in) = 0.081  => N(0,σ) = N(0,0.081)\n",
    "# h3 =>  σ=√(2/(fan_in) = 0.141  => N(0,σ) = N(0,0.141)\n",
    "\n",
    "model_relu.add(Dense(500, activation='relu', input_shape=(input_dim,), kernel_initializer=RandomNormal(mean=0.0, stddev=0.063, seed=None)))\n",
    "\n",
    "\n",
    "model_relu.add(Dense(300, activation='relu', kernel_initializer=RandomNormal(mean=0.0, stddev=0.081, seed=None)) )\n",
    "\n",
    "#Adding batchNormalization in hidden layer 2 to perform better internal covariate shift\n",
    "model_relu.add(BatchNormalization())\n",
    "\n",
    "model_relu.add(Dense(100, activation='relu', kernel_initializer=RandomNormal(mean=0.0, stddev=0.141, seed=None)) )\n",
    "model_relu.add(Dense(output_dim, activation='softmax'))\n",
    "\n",
    "model_relu.summary()"
   ]
  },
  {
   "cell_type": "code",
   "execution_count": 28,
   "metadata": {
    "colab": {
     "base_uri": "https://localhost:8080/",
     "height": 774
    },
    "colab_type": "code",
    "id": "tW-LkEUX_xX7",
    "outputId": "fa87d801-5441-403e-f065-70b827c1ab7d"
   },
   "outputs": [
    {
     "name": "stdout",
     "output_type": "stream",
     "text": [
      "Train on 60000 samples, validate on 10000 samples\n",
      "Epoch 1/20\n",
      "60000/60000 [==============================] - 10s 161us/step - loss: 0.2143 - acc: 0.9359 - val_loss: 0.1210 - val_acc: 0.9616\n",
      "Epoch 2/20\n",
      "60000/60000 [==============================] - 8s 141us/step - loss: 0.0846 - acc: 0.9739 - val_loss: 0.1106 - val_acc: 0.9637\n",
      "Epoch 3/20\n",
      "60000/60000 [==============================] - 9s 145us/step - loss: 0.0558 - acc: 0.9825 - val_loss: 0.0954 - val_acc: 0.9699\n",
      "Epoch 4/20\n",
      "60000/60000 [==============================] - 8s 142us/step - loss: 0.0435 - acc: 0.9860 - val_loss: 0.0963 - val_acc: 0.9713\n",
      "Epoch 5/20\n",
      "60000/60000 [==============================] - 9s 142us/step - loss: 0.0328 - acc: 0.9895 - val_loss: 0.1007 - val_acc: 0.9687\n",
      "Epoch 6/20\n",
      "60000/60000 [==============================] - 9s 143us/step - loss: 0.0270 - acc: 0.9912 - val_loss: 0.0989 - val_acc: 0.9713\n",
      "Epoch 7/20\n",
      "60000/60000 [==============================] - 9s 143us/step - loss: 0.0212 - acc: 0.9935 - val_loss: 0.0872 - val_acc: 0.9759\n",
      "Epoch 8/20\n",
      "60000/60000 [==============================] - 9s 147us/step - loss: 0.0251 - acc: 0.9916 - val_loss: 0.0895 - val_acc: 0.9757\n",
      "Epoch 9/20\n",
      "60000/60000 [==============================] - 9s 145us/step - loss: 0.0221 - acc: 0.9931 - val_loss: 0.0915 - val_acc: 0.9776\n",
      "Epoch 10/20\n",
      "60000/60000 [==============================] - 9s 145us/step - loss: 0.0144 - acc: 0.9951 - val_loss: 0.0826 - val_acc: 0.9793\n",
      "Epoch 11/20\n",
      "60000/60000 [==============================] - 9s 148us/step - loss: 0.0172 - acc: 0.9943 - val_loss: 0.0861 - val_acc: 0.9787\n",
      "Epoch 12/20\n",
      "60000/60000 [==============================] - 9s 149us/step - loss: 0.0149 - acc: 0.9951 - val_loss: 0.0953 - val_acc: 0.9766\n",
      "Epoch 13/20\n",
      "60000/60000 [==============================] - 9s 144us/step - loss: 0.0162 - acc: 0.9944 - val_loss: 0.0846 - val_acc: 0.9784\n",
      "Epoch 14/20\n",
      "60000/60000 [==============================] - 9s 142us/step - loss: 0.0116 - acc: 0.9961 - val_loss: 0.0854 - val_acc: 0.9796\n",
      "Epoch 15/20\n",
      "60000/60000 [==============================] - 9s 142us/step - loss: 0.0092 - acc: 0.9969 - val_loss: 0.0799 - val_acc: 0.9811\n",
      "Epoch 16/20\n",
      "60000/60000 [==============================] - 9s 146us/step - loss: 0.0165 - acc: 0.9948 - val_loss: 0.0882 - val_acc: 0.9806\n",
      "Epoch 17/20\n",
      "60000/60000 [==============================] - 8s 140us/step - loss: 0.0113 - acc: 0.9964 - val_loss: 0.0877 - val_acc: 0.9805\n",
      "Epoch 18/20\n",
      "60000/60000 [==============================] - 9s 142us/step - loss: 0.0140 - acc: 0.9954 - val_loss: 0.0774 - val_acc: 0.9807\n",
      "Epoch 19/20\n",
      "60000/60000 [==============================] - 9s 147us/step - loss: 0.0078 - acc: 0.9976 - val_loss: 0.0874 - val_acc: 0.9802\n",
      "Epoch 20/20\n",
      "60000/60000 [==============================] - 9s 146us/step - loss: 0.0103 - acc: 0.9970 - val_loss: 0.0988 - val_acc: 0.9794\n"
     ]
    }
   ],
   "source": [
    "#Applying adam optimizer to minimize cross entropy loss\n",
    "model_relu.compile(optimizer='adam', loss='categorical_crossentropy', metrics=['accuracy'])\n",
    "\n",
    "history = model_relu.fit(X_train, Y_train, batch_size=batch_size, epochs=nb_epoch, verbose=1, validation_data=(X_test, Y_test))"
   ]
  },
  {
   "cell_type": "code",
   "execution_count": 29,
   "metadata": {
    "colab": {
     "base_uri": "https://localhost:8080/",
     "height": 332
    },
    "colab_type": "code",
    "id": "lKzPuXJ8G8uD",
    "outputId": "42796bb4-aee1-4cad-ee63-ec18f2b58036"
   },
   "outputs": [
    {
     "name": "stdout",
     "output_type": "stream",
     "text": [
      "Test score: 0.09879382811700516\n",
      "Test accuracy: 0.9794\n"
     ]
    },
    {
     "data": {
      "image/png": "[encoded data removed]",
      "text/plain": [
       "<Figure size 432x288 with 1 Axes>"
      ]
     },
     "metadata": {
      "tags": []
     },
     "output_type": "display_data"
    }
   ],
   "source": [
    "score = model_relu.evaluate(X_test, Y_test, verbose=0) \n",
    "print('Test score:', score[0]) \n",
    "print('Test accuracy:', score[1])\n",
    "\n",
    "fig,ax = plt.subplots(1,1)\n",
    "ax.set_title('Epoch vs Loss')\n",
    "ax.set_xlabel('epoch') ; ax.set_ylabel('Categorical Crossentropy Loss')\n",
    "\n",
    "# list of epoch numbers\n",
    "x = list(range(1,nb_epoch+1))\n",
    "\n",
    "\n",
    "vy = history.history['val_loss']\n",
    "ty = history.history['loss']\n",
    "plt_dynamic(x, vy, ty, ax)"
   ]
  },
  {
   "cell_type": "markdown",
   "metadata": {
    "colab_type": "text",
    "id": "7_YZkL9ulo_N"
   },
   "source": [
    "**MLP with 3 hidden layers + RELU + BatchNormalisation +  Dropout + AdamOpltimizer**\n"
   ]
  },
  {
   "cell_type": "code",
   "execution_count": 33,
   "metadata": {
    "colab": {
     "base_uri": "https://localhost:8080/",
     "height": 442
    },
    "colab_type": "code",
    "id": "7jlquVVsngi5",
    "outputId": "c05cbf6b-8415-421e-b89a-d6ec804495dc"
   },
   "outputs": [
    {
     "name": "stdout",
     "output_type": "stream",
     "text": [
      "_________________________________________________________________\n",
      "Layer (type)                 Output Shape              Param #   \n",
      "=================================================================\n",
      "dense_17 (Dense)             (None, 500)               392500    \n",
      "_________________________________________________________________\n",
      "dropout_6 (Dropout)          (None, 500)               0         \n",
      "_________________________________________________________________\n",
      "dense_18 (Dense)             (None, 300)               150300    \n",
      "_________________________________________________________________\n",
      "batch_normalization_9 (Batch (None, 300)               1200      \n",
      "_________________________________________________________________\n",
      "dropout_7 (Dropout)          (None, 300)               0         \n",
      "_________________________________________________________________\n",
      "dense_19 (Dense)             (None, 100)               30100     \n",
      "_________________________________________________________________\n",
      "dropout_8 (Dropout)          (None, 100)               0         \n",
      "_________________________________________________________________\n",
      "dense_20 (Dense)             (None, 10)                1010      \n",
      "=================================================================\n",
      "Total params: 575,110\n",
      "Trainable params: 574,510\n",
      "Non-trainable params: 600\n",
      "_________________________________________________________________\n"
     ]
    }
   ],
   "source": [
    "#importing batchNormalization\n",
    "from keras.layers.normalization import BatchNormalization\n",
    "\n",
    "model_relu = Sequential()\n",
    "#Let's take dimension of first, second and third hidden layer 500, 300 and 100 respectively\n",
    "# If we sample weights from a normal distribution N(0,σ) we satisfy this condition with σ=√(2/(ni). \n",
    "# h1 =>  σ=√(2/(fan_in) = 0.063  => N(0,σ) = N(0,0.063)\n",
    "# h2 =>  σ=√(2/(fan_in) = 0.081  => N(0,σ) = N(0,0.081)\n",
    "# h3 =>  σ=√(2/(fan_in) = 0.141  => N(0,σ) = N(0,0.141)\n",
    "\n",
    "model_relu.add(Dense(500, activation='relu', input_shape=(input_dim,), kernel_initializer=RandomNormal(mean=0.0, stddev=0.063, seed=None)))\n",
    "model_relu.add(Dropout(0.5))\n",
    "\n",
    "model_relu.add(Dense(300, activation='relu', kernel_initializer=RandomNormal(mean=0.0, stddev=0.081, seed=None)) )\n",
    "\n",
    "#Adding batchNormalization in hidden layer 2 to perform better internal covariate shift\n",
    "model_relu.add(BatchNormalization())\n",
    "model_relu.add(Dropout(0.5))\n",
    "\n",
    "model_relu.add(Dense(100, activation='relu', kernel_initializer=RandomNormal(mean=0.0, stddev=0.141, seed=None)) )\n",
    "model_relu.add(Dropout(0.5))\n",
    "model_relu.add(Dense(output_dim, activation='softmax'))\n",
    "\n",
    "model_relu.summary()"
   ]
  },
  {
   "cell_type": "code",
   "execution_count": 34,
   "metadata": {
    "colab": {
     "base_uri": "https://localhost:8080/",
     "height": 959
    },
    "colab_type": "code",
    "id": "F2SMGiEooORI",
    "outputId": "352e30d3-30f5-4f1c-862b-659b0c2353ef"
   },
   "outputs": [
    {
     "name": "stdout",
     "output_type": "stream",
     "text": [
      "Train on 60000 samples, validate on 10000 samples\n",
      "Epoch 1/25\n",
      "60000/60000 [==============================] - 10s 163us/step - loss: 1.2064 - acc: 0.7068 - val_loss: 0.2421 - val_acc: 0.9314\n",
      "Epoch 2/25\n",
      "60000/60000 [==============================] - 9s 145us/step - loss: 0.3941 - acc: 0.8858 - val_loss: 0.1701 - val_acc: 0.9467\n",
      "Epoch 3/25\n",
      "60000/60000 [==============================] - 9s 146us/step - loss: 0.2839 - acc: 0.9172 - val_loss: 0.1344 - val_acc: 0.9585\n",
      "Epoch 4/25\n",
      "60000/60000 [==============================] - 9s 147us/step - loss: 0.2320 - acc: 0.9335 - val_loss: 0.1160 - val_acc: 0.9651\n",
      "Epoch 5/25\n",
      "60000/60000 [==============================] - 9s 147us/step - loss: 0.1985 - acc: 0.9438 - val_loss: 0.1009 - val_acc: 0.9705\n",
      "Epoch 6/25\n",
      "60000/60000 [==============================] - 9s 144us/step - loss: 0.1737 - acc: 0.9493 - val_loss: 0.0893 - val_acc: 0.9732\n",
      "Epoch 7/25\n",
      "60000/60000 [==============================] - 9s 144us/step - loss: 0.1608 - acc: 0.9542 - val_loss: 0.0851 - val_acc: 0.9746\n",
      "Epoch 8/25\n",
      "60000/60000 [==============================] - 9s 145us/step - loss: 0.1430 - acc: 0.9585 - val_loss: 0.0811 - val_acc: 0.9756\n",
      "Epoch 9/25\n",
      "60000/60000 [==============================] - 9s 145us/step - loss: 0.1289 - acc: 0.9633 - val_loss: 0.0776 - val_acc: 0.9768\n",
      "Epoch 10/25\n",
      "60000/60000 [==============================] - 9s 147us/step - loss: 0.1191 - acc: 0.9658 - val_loss: 0.0760 - val_acc: 0.9790\n",
      "Epoch 11/25\n",
      "60000/60000 [==============================] - 9s 147us/step - loss: 0.1135 - acc: 0.9677 - val_loss: 0.0745 - val_acc: 0.9782\n",
      "Epoch 12/25\n",
      "60000/60000 [==============================] - 9s 149us/step - loss: 0.1064 - acc: 0.9694 - val_loss: 0.0701 - val_acc: 0.9804\n",
      "Epoch 13/25\n",
      "60000/60000 [==============================] - 9s 149us/step - loss: 0.0972 - acc: 0.9709 - val_loss: 0.0723 - val_acc: 0.9790\n",
      "Epoch 14/25\n",
      "60000/60000 [==============================] - 9s 146us/step - loss: 0.0964 - acc: 0.9719 - val_loss: 0.0620 - val_acc: 0.9820\n",
      "Epoch 15/25\n",
      "60000/60000 [==============================] - 9s 148us/step - loss: 0.0925 - acc: 0.9734 - val_loss: 0.0713 - val_acc: 0.9793\n",
      "Epoch 16/25\n",
      "60000/60000 [==============================] - 9s 147us/step - loss: 0.0854 - acc: 0.9746 - val_loss: 0.0677 - val_acc: 0.9812\n",
      "Epoch 17/25\n",
      "60000/60000 [==============================] - 9s 147us/step - loss: 0.0811 - acc: 0.9763 - val_loss: 0.0649 - val_acc: 0.9834\n",
      "Epoch 18/25\n",
      "60000/60000 [==============================] - 9s 148us/step - loss: 0.0812 - acc: 0.9768 - val_loss: 0.0654 - val_acc: 0.9828\n",
      "Epoch 19/25\n",
      "60000/60000 [==============================] - 9s 150us/step - loss: 0.0762 - acc: 0.9778 - val_loss: 0.0665 - val_acc: 0.9831\n",
      "Epoch 20/25\n",
      "60000/60000 [==============================] - 9s 150us/step - loss: 0.0724 - acc: 0.9789 - val_loss: 0.0648 - val_acc: 0.9815\n",
      "Epoch 21/25\n",
      "60000/60000 [==============================] - 9s 144us/step - loss: 0.0692 - acc: 0.9798 - val_loss: 0.0666 - val_acc: 0.9825\n",
      "Epoch 22/25\n",
      "60000/60000 [==============================] - 9s 148us/step - loss: 0.0649 - acc: 0.9810 - val_loss: 0.0629 - val_acc: 0.9831\n",
      "Epoch 23/25\n",
      "60000/60000 [==============================] - 9s 151us/step - loss: 0.0662 - acc: 0.9809 - val_loss: 0.0683 - val_acc: 0.9818\n",
      "Epoch 24/25\n",
      "60000/60000 [==============================] - 10s 167us/step - loss: 0.0626 - acc: 0.9819 - val_loss: 0.0694 - val_acc: 0.9826\n",
      "Epoch 25/25\n",
      "60000/60000 [==============================] - 10s 158us/step - loss: 0.0605 - acc: 0.9821 - val_loss: 0.0707 - val_acc: 0.9818\n"
     ]
    }
   ],
   "source": [
    "#Applying adam optimizer to minimize cross entropy loss\n",
    "model_relu.compile(optimizer='adam', loss='categorical_crossentropy', metrics=['accuracy'])\n",
    "nb_epoch=25\n",
    "history = model_relu.fit(X_train, Y_train, batch_size=batch_size, epochs=nb_epoch, verbose=1, validation_data=(X_test, Y_test))"
   ]
  },
  {
   "cell_type": "code",
   "execution_count": 35,
   "metadata": {
    "colab": {
     "base_uri": "https://localhost:8080/",
     "height": 332
    },
    "colab_type": "code",
    "id": "0sNNga6Hq7sF",
    "outputId": "26d42833-b5f1-44cb-fb0f-2bef08c10482"
   },
   "outputs": [
    {
     "name": "stdout",
     "output_type": "stream",
     "text": [
      "Test score: 0.0706583952285393\n",
      "Test accuracy: 0.9818\n"
     ]
    },
    {
     "data": {
      "image/png": "[encoded data removed]",
      "text/plain": [
       "<Figure size 432x288 with 1 Axes>"
      ]
     },
     "metadata": {
      "tags": []
     },
     "output_type": "display_data"
    }
   ],
   "source": [
    "score = model_relu.evaluate(X_test, Y_test, verbose=0) \n",
    "print('Test score:', score[0]) \n",
    "print('Test accuracy:', score[1])\n",
    "\n",
    "fig,ax = plt.subplots(1,1)\n",
    "ax.set_title('Epoch vs Loss')\n",
    "ax.set_xlabel('epoch') ; ax.set_ylabel('Categorical Crossentropy Loss')\n",
    "\n",
    "# list of epoch numbers\n",
    "x = list(range(1,nb_epoch+1))\n",
    "\n",
    "\n",
    "vy = history.history['val_loss']\n",
    "ty = history.history['loss']\n",
    "plt_dynamic(x, vy, ty, ax)"
   ]
  },
  {
   "cell_type": "markdown",
   "metadata": {
    "colab_type": "text",
    "id": "QUom3fh4pMCw"
   },
   "source": [
    "**MLP with 5 hidden layers + RELU + BatchNormalisation + Without Dropout + AdamOpltimizer**"
   ]
  },
  {
   "cell_type": "code",
   "execution_count": 40,
   "metadata": {
    "colab": {
     "base_uri": "https://localhost:8080/",
     "height": 442
    },
    "colab_type": "code",
    "id": "7-Jwod6areQm",
    "outputId": "15fd2594-88a1-42cf-e9f7-6bee66eab3cc"
   },
   "outputs": [
    {
     "name": "stdout",
     "output_type": "stream",
     "text": [
      "_________________________________________________________________\n",
      "Layer (type)                 Output Shape              Param #   \n",
      "=================================================================\n",
      "dense_21 (Dense)             (None, 600)               471000    \n",
      "_________________________________________________________________\n",
      "dense_22 (Dense)             (None, 500)               300500    \n",
      "_________________________________________________________________\n",
      "batch_normalization_10 (Batc (None, 500)               2000      \n",
      "_________________________________________________________________\n",
      "dense_23 (Dense)             (None, 400)               200400    \n",
      "_________________________________________________________________\n",
      "dense_24 (Dense)             (None, 300)               120300    \n",
      "_________________________________________________________________\n",
      "batch_normalization_11 (Batc (None, 300)               1200      \n",
      "_________________________________________________________________\n",
      "dense_25 (Dense)             (None, 100)               30100     \n",
      "_________________________________________________________________\n",
      "dense_26 (Dense)             (None, 10)                1010      \n",
      "=================================================================\n",
      "Total params: 1,126,510\n",
      "Trainable params: 1,124,910\n",
      "Non-trainable params: 1,600\n",
      "_________________________________________________________________\n"
     ]
    }
   ],
   "source": [
    "#importing batchNormalization\n",
    "from keras.layers.normalization import BatchNormalization\n",
    "\n",
    "model_relu = Sequential()\n",
    "#Let's take dimension of first, second,third,fourth and fifth hidden layer 600,500,400,300 and 100 respectively\n",
    "# If we sample weights from a normal distribution N(0,σ) we satisfy this condition with σ=√(2/(ni). \n",
    "# h1 =>  σ=√(2/(fan_in) = 0.057  => N(0,σ) = N(0,0.057)\n",
    "# h2 =>  σ=√(2/(fan_in) = 0.063  => N(0,σ) = N(0,0.063)\n",
    "# h3 =>  σ=√(2/(fan_in) = 0.070  => N(0,σ) = N(0,0.070)\n",
    "# h4 =>  σ=√(2/(fan_in) = 0.081  => N(0,σ) = N(0,0.081)\n",
    "# h5 =>  σ=√(2/(fan_in) = 0.141  => N(0,σ) = N(0,0.141)\n",
    "\n",
    "model_relu.add(Dense(600, activation='relu', input_shape=(input_dim,), kernel_initializer=RandomNormal(mean=0.0, stddev=0.057, seed=None)))\n",
    "#Adding batchNormalization in hidden layer 2 and layer 4 to perform better internal covariate shift\n",
    "model_relu.add(Dense(500, activation='relu', kernel_initializer=RandomNormal(mean=0.0, stddev=0.063, seed=None)) )\n",
    "model_relu.add(BatchNormalization())\n",
    "\n",
    "model_relu.add(Dense(400, activation='relu', kernel_initializer=RandomNormal(mean=0.0, stddev=0.070, seed=None)) )\n",
    "\n",
    "model_relu.add(Dense(300, activation='relu', kernel_initializer=RandomNormal(mean=0.0, stddev=0.081, seed=None)) )\n",
    "\n",
    "\n",
    "model_relu.add(BatchNormalization())\n",
    "\n",
    "\n",
    "model_relu.add(Dense(100, activation='relu', kernel_initializer=RandomNormal(mean=0.0, stddev=0.141, seed=None)) )\n",
    "\n",
    "model_relu.add(Dense(output_dim, activation='softmax'))\n",
    "\n",
    "model_relu.summary()"
   ]
  },
  {
   "cell_type": "code",
   "execution_count": 41,
   "metadata": {
    "colab": {
     "base_uri": "https://localhost:8080/",
     "height": 774
    },
    "colab_type": "code",
    "id": "DeGZIe8euVvl",
    "outputId": "8fd11168-4403-48c0-ca36-9571820684ae"
   },
   "outputs": [
    {
     "name": "stdout",
     "output_type": "stream",
     "text": [
      "Train on 60000 samples, validate on 10000 samples\n",
      "Epoch 1/20\n",
      "60000/60000 [==============================] - 17s 285us/step - loss: 0.2216 - acc: 0.9338 - val_loss: 0.1490 - val_acc: 0.9528\n",
      "Epoch 2/20\n",
      "60000/60000 [==============================] - 16s 264us/step - loss: 0.0942 - acc: 0.9713 - val_loss: 0.1171 - val_acc: 0.9640\n",
      "Epoch 3/20\n",
      "60000/60000 [==============================] - 16s 265us/step - loss: 0.0650 - acc: 0.9793 - val_loss: 0.1072 - val_acc: 0.9685\n",
      "Epoch 4/20\n",
      "60000/60000 [==============================] - 16s 263us/step - loss: 0.0556 - acc: 0.9815 - val_loss: 0.1177 - val_acc: 0.9645\n",
      "Epoch 5/20\n",
      "60000/60000 [==============================] - 16s 262us/step - loss: 0.0466 - acc: 0.9850 - val_loss: 0.0762 - val_acc: 0.9778\n",
      "Epoch 6/20\n",
      "60000/60000 [==============================] - 16s 261us/step - loss: 0.0367 - acc: 0.9879 - val_loss: 0.0837 - val_acc: 0.9735\n",
      "Epoch 7/20\n",
      "60000/60000 [==============================] - 16s 258us/step - loss: 0.0383 - acc: 0.9881 - val_loss: 0.0920 - val_acc: 0.9739\n",
      "Epoch 8/20\n",
      "60000/60000 [==============================] - 15s 258us/step - loss: 0.0318 - acc: 0.9896 - val_loss: 0.0990 - val_acc: 0.9713\n",
      "Epoch 9/20\n",
      "60000/60000 [==============================] - 15s 255us/step - loss: 0.0290 - acc: 0.9899 - val_loss: 0.1238 - val_acc: 0.9667\n",
      "Epoch 10/20\n",
      "60000/60000 [==============================] - 15s 254us/step - loss: 0.0268 - acc: 0.9910 - val_loss: 0.0899 - val_acc: 0.9786\n",
      "Epoch 11/20\n",
      "60000/60000 [==============================] - 16s 258us/step - loss: 0.0237 - acc: 0.9918 - val_loss: 0.0876 - val_acc: 0.9784\n",
      "Epoch 12/20\n",
      "60000/60000 [==============================] - 15s 252us/step - loss: 0.0279 - acc: 0.9909 - val_loss: 0.0941 - val_acc: 0.9770\n",
      "Epoch 13/20\n",
      "60000/60000 [==============================] - 15s 255us/step - loss: 0.0182 - acc: 0.9939 - val_loss: 0.0770 - val_acc: 0.9793\n",
      "Epoch 14/20\n",
      "60000/60000 [==============================] - 15s 254us/step - loss: 0.0194 - acc: 0.9937 - val_loss: 0.0852 - val_acc: 0.9793\n",
      "Epoch 15/20\n",
      "60000/60000 [==============================] - 15s 255us/step - loss: 0.0205 - acc: 0.9935 - val_loss: 0.0955 - val_acc: 0.9768\n",
      "Epoch 16/20\n",
      "60000/60000 [==============================] - 15s 254us/step - loss: 0.0196 - acc: 0.9934 - val_loss: 0.0847 - val_acc: 0.9794\n",
      "Epoch 17/20\n",
      "60000/60000 [==============================] - 15s 253us/step - loss: 0.0145 - acc: 0.9954 - val_loss: 0.0826 - val_acc: 0.9817\n",
      "Epoch 18/20\n",
      "60000/60000 [==============================] - 15s 253us/step - loss: 0.0149 - acc: 0.9949 - val_loss: 0.1031 - val_acc: 0.9783\n",
      "Epoch 19/20\n",
      "60000/60000 [==============================] - 15s 253us/step - loss: 0.0164 - acc: 0.9945 - val_loss: 0.0998 - val_acc: 0.9780\n",
      "Epoch 20/20\n",
      "60000/60000 [==============================] - 15s 249us/step - loss: 0.0136 - acc: 0.9956 - val_loss: 0.0941 - val_acc: 0.9782\n"
     ]
    }
   ],
   "source": [
    "#Applying adam optimizer to minimize cross entropy loss\n",
    "model_relu.compile(optimizer='adam', loss='categorical_crossentropy', metrics=['accuracy'])\n",
    "nb_epoch=20\n",
    "history = model_relu.fit(X_train, Y_train, batch_size=batch_size, epochs=nb_epoch, verbose=1, validation_data=(X_test, Y_test))"
   ]
  },
  {
   "cell_type": "code",
   "execution_count": 42,
   "metadata": {
    "colab": {
     "base_uri": "https://localhost:8080/",
     "height": 332
    },
    "colab_type": "code",
    "id": "9HuZ85wB4MFA",
    "outputId": "3ee5921d-5a89-497f-9b33-a3869ff6f1e6"
   },
   "outputs": [
    {
     "name": "stdout",
     "output_type": "stream",
     "text": [
      "Test score: 0.09412301840839209\n",
      "Test accuracy: 0.9782\n"
     ]
    },
    {
     "data": {
      "image/png": "[encoded data removed]",
      "text/plain": [
       "<Figure size 432x288 with 1 Axes>"
      ]
     },
     "metadata": {
      "tags": []
     },
     "output_type": "display_data"
    }
   ],
   "source": [
    "score = model_relu.evaluate(X_test, Y_test, verbose=0) \n",
    "print('Test score:', score[0]) \n",
    "print('Test accuracy:', score[1])\n",
    "\n",
    "fig,ax = plt.subplots(1,1)\n",
    "ax.set_title('Epoch vs Loss')\n",
    "ax.set_xlabel('epoch') ; ax.set_ylabel('Categorical Crossentropy Loss')\n",
    "\n",
    "# list of epoch numbers\n",
    "x = list(range(1,nb_epoch+1))\n",
    "\n",
    "\n",
    "vy = history.history['val_loss']\n",
    "ty = history.history['loss']\n",
    "plt_dynamic(x, vy, ty, ax)"
   ]
  },
  {
   "cell_type": "markdown",
   "metadata": {
    "colab_type": "text",
    "id": "dGzViG1Hs024"
   },
   "source": [
    "**MLP with 5 hidden layers + RELU + BatchNormalisation + Dropout + AdamOpltimizer**\n"
   ]
  },
  {
   "cell_type": "code",
   "execution_count": 46,
   "metadata": {
    "colab": {
     "base_uri": "https://localhost:8080/",
     "height": 626
    },
    "colab_type": "code",
    "id": "dgJYMQLl9806",
    "outputId": "ac8d52f2-74d6-4671-da87-60d9ff05f1fa"
   },
   "outputs": [
    {
     "name": "stdout",
     "output_type": "stream",
     "text": [
      "_________________________________________________________________\n",
      "Layer (type)                 Output Shape              Param #   \n",
      "=================================================================\n",
      "dense_33 (Dense)             (None, 600)               471000    \n",
      "_________________________________________________________________\n",
      "dropout_14 (Dropout)         (None, 600)               0         \n",
      "_________________________________________________________________\n",
      "dense_34 (Dense)             (None, 500)               300500    \n",
      "_________________________________________________________________\n",
      "batch_normalization_14 (Batc (None, 500)               2000      \n",
      "_________________________________________________________________\n",
      "dropout_15 (Dropout)         (None, 500)               0         \n",
      "_________________________________________________________________\n",
      "dense_35 (Dense)             (None, 400)               200400    \n",
      "_________________________________________________________________\n",
      "dropout_16 (Dropout)         (None, 400)               0         \n",
      "_________________________________________________________________\n",
      "dense_36 (Dense)             (None, 300)               120300    \n",
      "_________________________________________________________________\n",
      "batch_normalization_15 (Batc (None, 300)               1200      \n",
      "_________________________________________________________________\n",
      "dropout_17 (Dropout)         (None, 300)               0         \n",
      "_________________________________________________________________\n",
      "dense_37 (Dense)             (None, 100)               30100     \n",
      "_________________________________________________________________\n",
      "dropout_18 (Dropout)         (None, 100)               0         \n",
      "_________________________________________________________________\n",
      "dense_38 (Dense)             (None, 10)                1010      \n",
      "=================================================================\n",
      "Total params: 1,126,510\n",
      "Trainable params: 1,124,910\n",
      "Non-trainable params: 1,600\n",
      "_________________________________________________________________\n"
     ]
    }
   ],
   "source": [
    "#importing batchNormalization\n",
    "from keras.layers.normalization import BatchNormalization\n",
    "\n",
    "model_relu = Sequential()\n",
    "#Let's take dimension of first, second,third,fourth and fifth hidden layer 600,500,400,300 and 100 respectively\n",
    "# If we sample weights from a normal distribution N(0,σ) we satisfy this condition with σ=√(2/(ni). \n",
    "# h1 =>  σ=√(2/(fan_in) = 0.057  => N(0,σ) = N(0,0.057)\n",
    "# h2 =>  σ=√(2/(fan_in) = 0.063  => N(0,σ) = N(0,0.063)\n",
    "# h3 =>  σ=√(2/(fan_in) = 0.070  => N(0,σ) = N(0,0.070)\n",
    "# h4 =>  σ=√(2/(fan_in) = 0.081  => N(0,σ) = N(0,0.081)\n",
    "# h5 =>  σ=√(2/(fan_in) = 0.141  => N(0,σ) = N(0,0.141)\n",
    "\n",
    "model_relu.add(Dense(600, activation='relu', input_shape=(input_dim,), kernel_initializer=RandomNormal(mean=0.0, stddev=0.057, seed=None)))\n",
    "model_relu.add(Dropout(0.5))\n",
    "#Adding batchNormalization in hidden layer 2 and layer 4 to perform better internal covariate shift\n",
    "model_relu.add(Dense(500, activation='relu', kernel_initializer=RandomNormal(mean=0.0, stddev=0.063, seed=None)) )\n",
    "model_relu.add(BatchNormalization())\n",
    "model_relu.add(Dropout(0.5))\n",
    "\n",
    "model_relu.add(Dense(400, activation='relu', kernel_initializer=RandomNormal(mean=0.0, stddev=0.070, seed=None)) )\n",
    "model_relu.add(Dropout(0.5))\n",
    "\n",
    "model_relu.add(Dense(300, activation='relu', kernel_initializer=RandomNormal(mean=0.0, stddev=0.081, seed=None)) )\n",
    "model_relu.add(BatchNormalization())\n",
    "model_relu.add(Dropout(0.5))\n",
    "\n",
    "model_relu.add(Dense(100, activation='relu', kernel_initializer=RandomNormal(mean=0.0, stddev=0.141, seed=None)) )\n",
    "model_relu.add(Dropout(0.5))\n",
    "\n",
    "model_relu.add(Dense(output_dim, activation='softmax'))\n",
    "\n",
    "model_relu.summary()"
   ]
  },
  {
   "cell_type": "code",
   "execution_count": 47,
   "metadata": {
    "colab": {
     "base_uri": "https://localhost:8080/",
     "height": 1000
    },
    "colab_type": "code",
    "id": "iXievGmKtNt7",
    "outputId": "9501d8bb-892a-4f51-fabc-6b7253388a35"
   },
   "outputs": [
    {
     "name": "stdout",
     "output_type": "stream",
     "text": [
      "Train on 60000 samples, validate on 10000 samples\n",
      "Epoch 1/30\n",
      "60000/60000 [==============================] - 21s 348us/step - loss: 1.8546 - acc: 0.5357 - val_loss: 0.4083 - val_acc: 0.8852\n",
      "Epoch 2/30\n",
      "60000/60000 [==============================] - 18s 303us/step - loss: 0.5280 - acc: 0.8410 - val_loss: 0.2101 - val_acc: 0.9396\n",
      "Epoch 3/30\n",
      "60000/60000 [==============================] - 18s 306us/step - loss: 0.3404 - acc: 0.9041 - val_loss: 0.1492 - val_acc: 0.9570\n",
      "Epoch 4/30\n",
      "60000/60000 [==============================] - 18s 306us/step - loss: 0.2693 - acc: 0.9275 - val_loss: 0.1232 - val_acc: 0.9639\n",
      "Epoch 5/30\n",
      "60000/60000 [==============================] - 18s 304us/step - loss: 0.2256 - acc: 0.9393 - val_loss: 0.1083 - val_acc: 0.9693\n",
      "Epoch 6/30\n",
      "60000/60000 [==============================] - 18s 307us/step - loss: 0.1936 - acc: 0.9480 - val_loss: 0.0956 - val_acc: 0.9732\n",
      "Epoch 7/30\n",
      "60000/60000 [==============================] - 19s 310us/step - loss: 0.1746 - acc: 0.9532 - val_loss: 0.0878 - val_acc: 0.9755\n",
      "Epoch 8/30\n",
      "60000/60000 [==============================] - 18s 305us/step - loss: 0.1636 - acc: 0.9563 - val_loss: 0.0901 - val_acc: 0.9757\n",
      "Epoch 9/30\n",
      "60000/60000 [==============================] - 18s 306us/step - loss: 0.1473 - acc: 0.9605 - val_loss: 0.0862 - val_acc: 0.9775\n",
      "Epoch 10/30\n",
      "60000/60000 [==============================] - 18s 308us/step - loss: 0.1337 - acc: 0.9649 - val_loss: 0.0802 - val_acc: 0.9795\n",
      "Epoch 11/30\n",
      "60000/60000 [==============================] - 18s 305us/step - loss: 0.1300 - acc: 0.9652 - val_loss: 0.0767 - val_acc: 0.9798\n",
      "Epoch 12/30\n",
      "60000/60000 [==============================] - 18s 305us/step - loss: 0.1243 - acc: 0.9662 - val_loss: 0.0806 - val_acc: 0.9784\n",
      "Epoch 13/30\n",
      "60000/60000 [==============================] - 18s 307us/step - loss: 0.1154 - acc: 0.9692 - val_loss: 0.0758 - val_acc: 0.9790\n",
      "Epoch 14/30\n",
      "60000/60000 [==============================] - 18s 304us/step - loss: 0.1079 - acc: 0.9717 - val_loss: 0.0723 - val_acc: 0.9824\n",
      "Epoch 15/30\n",
      "60000/60000 [==============================] - 18s 304us/step - loss: 0.1033 - acc: 0.9723 - val_loss: 0.0715 - val_acc: 0.9815\n",
      "Epoch 16/30\n",
      "60000/60000 [==============================] - 18s 302us/step - loss: 0.0983 - acc: 0.9733 - val_loss: 0.0708 - val_acc: 0.9810\n",
      "Epoch 17/30\n",
      "60000/60000 [==============================] - 18s 304us/step - loss: 0.0925 - acc: 0.9757 - val_loss: 0.0731 - val_acc: 0.9810\n",
      "Epoch 18/30\n",
      "60000/60000 [==============================] - 18s 306us/step - loss: 0.0879 - acc: 0.9767 - val_loss: 0.0668 - val_acc: 0.9839\n",
      "Epoch 19/30\n",
      "60000/60000 [==============================] - 18s 307us/step - loss: 0.0858 - acc: 0.9767 - val_loss: 0.0728 - val_acc: 0.9818\n",
      "Epoch 20/30\n",
      "60000/60000 [==============================] - 18s 305us/step - loss: 0.0818 - acc: 0.9774 - val_loss: 0.0658 - val_acc: 0.9833\n",
      "Epoch 21/30\n",
      "60000/60000 [==============================] - 18s 307us/step - loss: 0.0817 - acc: 0.9778 - val_loss: 0.0683 - val_acc: 0.9828\n",
      "Epoch 22/30\n",
      "60000/60000 [==============================] - 18s 307us/step - loss: 0.0762 - acc: 0.9789 - val_loss: 0.0664 - val_acc: 0.9819\n",
      "Epoch 23/30\n",
      "60000/60000 [==============================] - 18s 306us/step - loss: 0.0732 - acc: 0.9806 - val_loss: 0.0634 - val_acc: 0.9830\n",
      "Epoch 24/30\n",
      "60000/60000 [==============================] - 19s 309us/step - loss: 0.0703 - acc: 0.9809 - val_loss: 0.0657 - val_acc: 0.9827\n",
      "Epoch 25/30\n",
      "60000/60000 [==============================] - 18s 308us/step - loss: 0.0638 - acc: 0.9825 - val_loss: 0.0690 - val_acc: 0.9844\n",
      "Epoch 26/30\n",
      "60000/60000 [==============================] - 19s 312us/step - loss: 0.0663 - acc: 0.9828 - val_loss: 0.0706 - val_acc: 0.9826\n",
      "Epoch 27/30\n",
      "60000/60000 [==============================] - 19s 311us/step - loss: 0.0634 - acc: 0.9830 - val_loss: 0.0695 - val_acc: 0.9834\n",
      "Epoch 28/30\n",
      "60000/60000 [==============================] - 19s 312us/step - loss: 0.0623 - acc: 0.9829 - val_loss: 0.0671 - val_acc: 0.9846\n",
      "Epoch 29/30\n",
      "60000/60000 [==============================] - 18s 307us/step - loss: 0.0591 - acc: 0.9842 - val_loss: 0.0657 - val_acc: 0.9835\n",
      "Epoch 30/30\n",
      "60000/60000 [==============================] - 19s 308us/step - loss: 0.0584 - acc: 0.9839 - val_loss: 0.0697 - val_acc: 0.9841\n"
     ]
    }
   ],
   "source": [
    "#Applying adam optimizer to minimize cross entropy loss\n",
    "model_relu.compile(optimizer='adam', loss='categorical_crossentropy', metrics=['accuracy'])\n",
    "nb_epoch=30\n",
    "history = model_relu.fit(X_train, Y_train, batch_size=batch_size, epochs=nb_epoch, verbose=1, validation_data=(X_test, Y_test))"
   ]
  },
  {
   "cell_type": "code",
   "execution_count": 48,
   "metadata": {
    "colab": {
     "base_uri": "https://localhost:8080/",
     "height": 332
    },
    "colab_type": "code",
    "id": "s3jH38FutSF2",
    "outputId": "49dcd1a6-9250-4288-805f-2ef771228999"
   },
   "outputs": [
    {
     "name": "stdout",
     "output_type": "stream",
     "text": [
      "Test score: 0.06972299479774956\n",
      "Test accuracy: 0.9841\n"
     ]
    },
    {
     "data": {
      "image/png": "[encoded data removed]",
      "text/plain": [
       "<Figure size 432x288 with 1 Axes>"
      ]
     },
     "metadata": {
      "tags": []
     },
     "output_type": "display_data"
    }
   ],
   "source": [
    "score = model_relu.evaluate(X_test, Y_test, verbose=0) \n",
    "print('Test score:', score[0]) \n",
    "print('Test accuracy:', score[1])\n",
    "\n",
    "fig,ax = plt.subplots(1,1)\n",
    "ax.set_title('Epoch vs Loss')\n",
    "ax.set_xlabel('epoch') ; ax.set_ylabel('Categorical Crossentropy Loss')\n",
    "\n",
    "# list of epoch numbers\n",
    "x = list(range(1,nb_epoch+1))\n",
    "\n",
    "\n",
    "vy = history.history['val_loss']\n",
    "ty = history.history['loss']\n",
    "plt_dynamic(x, vy, ty, ax)"
   ]
  },
  {
   "cell_type": "markdown",
   "metadata": {
    "colab_type": "text",
    "id": "GdAm-_KMytel"
   },
   "source": [
    "**Observations**"
   ]
  },
  {
   "cell_type": "code",
   "execution_count": 50,
   "metadata": {
    "colab": {
     "base_uri": "https://localhost:8080/",
     "height": 202
    },
    "colab_type": "code",
    "id": "RjZEUj2Cuyqp",
    "outputId": "4e000083-c6a2-4055-87ff-bbc90737da80"
   },
   "outputs": [
    {
     "name": "stdout",
     "output_type": "stream",
     "text": [
      "+-------------+----------------------+------------+\n",
      "| No of layer | With/Without Dropout | Accuracy % |\n",
      "+-------------+----------------------+------------+\n",
      "|      2      |       Without        |   97.81    |\n",
      "|      2      |     With Dropout     |   98.36    |\n",
      "|      3      |       Without        |   97.98    |\n",
      "|      3      |     With Dropout     |   98.18    |\n",
      "|      5      |       Without        |   97.80    |\n",
      "|      5      |     With Dropout     |   98.41    |\n",
      "+-------------+----------------------+------------+\n"
     ]
    }
   ],
   "source": [
    "from prettytable import PrettyTable    \n",
    "x = PrettyTable()\n",
    "x.field_names = [\"No of layer\",\"With/Without Dropout\", \"Accuracy %\"]\n",
    "\n",
    "x.add_row([\"2\",\"Without\",\"97.81\"])\n",
    "x.add_row([\"2\",\"With Dropout\",\"98.36\"])\n",
    "x.add_row([\"3\",\"Without\",\"97.98\"])\n",
    "x.add_row([\"3\",\"With Dropout\",\"98.18\"])\n",
    "x.add_row([\"5\",\"Without\",\"97.80\"])\n",
    "x.add_row([\"5\",\"With Dropout\",\"98.41\"])\n",
    "\n",
    "\n",
    "print(x)"
   ]
  },
  {
   "cell_type": "markdown",
   "metadata": {
    "colab_type": "text",
    "id": "5NmhXeIF4vEj"
   },
   "source": [
    "We can observe that after applying Dropout our accuracy increases.\n",
    "\n",
    "We applied batch normalisation not at all layers to reduce internal covariate shift."
   ]
  },
  {
   "cell_type": "code",
   "execution_count": 0,
   "metadata": {
    "colab": {},
    "colab_type": "code",
    "id": "7Gj_2L6e113J"
   },
   "outputs": [],
   "source": []
  }
 ],
 "metadata": {
  "colab": {
   "collapsed_sections": [],
   "name": "MLP_MNIST_KERAS.ipynb",
   "provenance": [],
   "version": "0.3.2"
  },
  "kernelspec": {
   "display_name": "Python 3",
   "language": "python",
   "name": "python3"
  },
  "language_info": {
   "codemirror_mode": {
    "name": "ipython",
    "version": 3
   },
   "file_extension": ".py",
   "mimetype": "text/x-python",
   "name": "python",
   "nbconvert_exporter": "python",
   "pygments_lexer": "ipython3",
   "version": "3.7.3"
  }
 },
 "nbformat": 4,
 "nbformat_minor": 1
}
